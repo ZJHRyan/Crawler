{
 "cells": [
  {
   "cell_type": "markdown",
   "metadata": {},
   "source": [
    "# Requests"
   ]
  },
  {
   "cell_type": "code",
   "execution_count": null,
   "metadata": {},
   "outputs": [],
   "source": [
    "'''\n",
    "### https://developer.mozilla.org/en-US/docs/Web/API/Request\n",
    "### https://www.geeksforgeeks.org/python-requests-tutorial/\n",
    "### https://www.edureka.co/blog/python-requests-tutorial/\n",
    "### https://medium.com/analytics-vidhya/the-modern-way-of-web-scraping-requests-html-2567ba2554f4\n",
    "'''"
   ]
  },
  {
   "cell_type": "markdown",
   "metadata": {},
   "source": [
    "## Python Requests Tutorial"
   ]
  },
  {
   "cell_type": "code",
   "execution_count": null,
   "metadata": {},
   "outputs": [],
   "source": [
    "'''\n",
    "Requests library is one of the integral part of Python for making HTTP requests to a specified URL. \n",
    "请求库是Python的一个组成部分，用于向指定的URL发出HTTP请求。\n",
    "Whether it be REST APIs or Web Scrapping, requests is must to be learned for proceeding further with these technologies. \n",
    "无论是REST APIs还是Web Scrapping，Requests都是进一步学习这些技术所必须的。\n",
    "When one makes a request to a URI, it returns a response. \n",
    "当一个人向一个URI发出请求时，它会返回一个响应\n",
    "Python requests provides inbuilt functionalities for managing both the request and response.\n",
    "Python requests 为管理请求和响应提供了内置的功能。\n",
    "\n",
    "REST APIs provide a flexible, lightweight way to integrate applications, and have emerged as the most common method for connecting components in microservices architectures.\n",
    "REST API提供了一种灵活、轻量级的方式来整合应用程序，并已成为微服务架构中连接组件的最常用方法。\n",
    "An API, or application programming interface, is a set of rules that define how applications or devices can connect to and communicate with each other. \n",
    "API，即应用编程接口，是一组定义应用程序或设备如何连接和相互通信的规则。\n",
    "REST APIs:https://blog.csdn.net/qq_42611547/article/details/84346809\n",
    "https://www.geeksforgeeks.org/rest-api-introduction/\n",
    "\n",
    "\n",
    "'''"
   ]
  },
  {
   "cell_type": "code",
   "execution_count": null,
   "metadata": {},
   "outputs": [],
   "source": [
    "'''\n",
    "2xx = Success（成功）\n",
    "\n",
    "3xx = Redirect（重定向）\n",
    "\n",
    "4xx = User error（客户端错误）\n",
    "\n",
    "5xx = Server error（服务器端错误）\n",
    "'''"
   ]
  },
  {
   "cell_type": "markdown",
   "metadata": {},
   "source": [
    "## Why learn Python requests module?"
   ]
  },
  {
   "cell_type": "code",
   "execution_count": null,
   "metadata": {},
   "outputs": [],
   "source": [
    "'''\n",
    "Requests is an Apache2 Licensed HTTP library, that allows to send HTTP/1.1 requests using Python.\n",
    "To play with web, Python Requests is must. Whether it be hitting APIs, downloading entire facebook pages, and much more cool stuff, one will have to make a request to the URL.\n",
    "Requests play a major role is dealing with REST APIs, and Web Scrapping.\n",
    "Checkout an Example Python Script using Requests and Web Scrapping\n",
    "'''"
   ]
  },
  {
   "cell_type": "markdown",
   "metadata": {},
   "source": [
    "## Installing Requests"
   ]
  },
  {
   "cell_type": "code",
   "execution_count": null,
   "metadata": {},
   "outputs": [],
   "source": [
    "#Requests installation depends on type of operating system on eis using, the basic command anywhere would be to open a command terminal and run,\n",
    "# pip install requests"
   ]
  },
  {
   "cell_type": "markdown",
   "metadata": {},
   "source": [
    "## Making a Request"
   ]
  },
  {
   "cell_type": "code",
   "execution_count": null,
   "metadata": {},
   "outputs": [],
   "source": [
    "'''\n",
    "Python requests module has several built-in methods to make Http requests to specified URI using GET, POST, PUT, PATCH or HEAD requests. \n",
    "A Http request is meant to either retrieve data from a specified URI or to push data to a server. \n",
    "It works as a request-response protocol between a client and a server. \n",
    "\n",
    "\n",
    "GET method is used to retrieve information from the given server using a given URI.\n",
    "检索信息\n",
    "\n",
    "POST request method requests that a web server accepts the data enclosed in the body of the request message, most likely for storing it\n",
    "\n",
    "The PUT method requests that the enclosed entity be stored under the supplied URI. If the URI refers to an already existing resource, it is modified and if the URI does not point to an existing resource, then the server can create the resource with that URI.\n",
    "\n",
    "The DELETE method deletes the specified resource\n",
    "\n",
    "The HEAD method asks for a response identical to that of a GET request, but without the response body.\n",
    "\n",
    "It is used for modify capabilities. The PATCH request only needs to contain the changes to the resource, not the complete resourc\n",
    "\n",
    "GET method is used to retrieve information from the given server using a given URI. \n",
    "The GET method sends the encoded user information appended to the page request. \n",
    "The page and the encoded information are separated by the ‘?’ character.\n",
    "\n",
    "https://www.google.com/search?q=hello\n",
    "\n",
    "\n",
    "'''"
   ]
  },
  {
   "cell_type": "code",
   "execution_count": null,
   "metadata": {},
   "outputs": [],
   "source": [
    "#Let’s try making a request to github’s APIs for example purposes.\n",
    "\n",
    "import requests\n",
    "   \n",
    "# Making a GET request\n",
    "r = requests.get('https://api.github.com/users/naveenkrnl')\n",
    "  \n",
    "# check status code for response received\n",
    "# success code - 200\n",
    "print(r)\n",
    "  \n",
    "# print content of request\n",
    "print(r.content)"
   ]
  },
  {
   "cell_type": "markdown",
   "metadata": {},
   "source": [
    "### Response object\n",
    "When one makes a request to a URI, it returns a response. This Response object in terms of python is returned by requests.method(), method being – get, post, put, etc. Response is a powerful object with lots of functions and attributes that assist in normalizing data or creating ideal portions of code. For example, response.status_code returns the status code from the headers itself, and one can check if the request was processed successfully or not.\n",
    "Response object can be used to imply lots of features, methods, and functionalities.\n"
   ]
  },
  {
   "cell_type": "code",
   "execution_count": null,
   "metadata": {},
   "outputs": [],
   "source": [
    "\n",
    "# import requests module\n",
    "import requests\n",
    "  \n",
    "# Making a get request\n",
    "response = requests.get('https://api.github.com/')\n",
    "  \n",
    "# print request object\n",
    "print(response.url)\n",
    "  \n",
    "# print status code\n",
    "print(response.status_code)"
   ]
  },
  {
   "cell_type": "markdown",
   "metadata": {},
   "source": [
    "### Method\tDescription"
   ]
  },
  {
   "cell_type": "code",
   "execution_count": null,
   "metadata": {},
   "outputs": [],
   "source": [
    "'''\n",
    "Method\tDescription\n",
    "response.headers\tresponse.headers returns a dictionary of response headers.\n",
    "response.encoding\tresponse.encoding returns the encoding used to decode response.content.\n",
    "response.elapsed\tresponse.elapsed returns a timedelta object with the time elapsed from sending the request to the arrival of the response.\n",
    "response.close()\tresponse.close() closes the connection to the server.\n",
    "response.content\tresponse.content returns the content of the response, in bytes.\n",
    "response.cookies\tresponse.cookies returns a CookieJar object with the cookies sent back from the server.\n",
    "response.history\tresponse.history returns a list of response objects holding the history of request (url).\n",
    "response.is_permanent_redirect\tresponse.is_permanent_redirect returns True if the response is the permanent redirected url, otherwise False.\n",
    "response.is_redirect\tresponse.is_redirect returns True if the response was redirected, otherwise False.\n",
    "response.iter_content()\tresponse.iter_content() iterates over the response.content.\n",
    "response.json()\tresponse.json() returns a JSON object of the result (if the result was written in JSON format, if not it raises an error).\n",
    "response.url\tresponse.url returns the URL of the response.\n",
    "response.text\tresponse.text returns the content of the response, in unicode.\n",
    "response.status_code\tresponse.status_code returns a number that indicates the status (200 is OK, 404 is Not Found).\n",
    "response.request\tresponse.request returns the request object that requested this response.\n",
    "response.reason\tresponse.reason returns a text corresponding to the status code.\n",
    "response.raise_for_status()\tresponse.raise_for_status() returns an HTTPError object if an error has occurred during the process.\n",
    "response.ok\tresponse.ok returns True if status_code is less than 200, otherwise False.\n",
    "response.links\tresponse.links returns the header links.\n",
    "'''"
   ]
  },
  {
   "cell_type": "markdown",
   "metadata": {},
   "source": [
    "## Authentication using Python Requests"
   ]
  },
  {
   "cell_type": "code",
   "execution_count": null,
   "metadata": {},
   "outputs": [],
   "source": [
    "\n",
    "# import requests module\n",
    "import requests\n",
    "from requests.auth import HTTPBasicAuth\n",
    "  \n",
    "# Making a get request\n",
    "response = requests.get('https://api.github.com/user',\n",
    "            auth = HTTPBasicAuth('a107230001@mail.shu.edu.tw', 'Zjh.12345678'))\n",
    "  \n",
    "# print request object\n",
    "print(response)\n",
    "print(response.content)"
   ]
  },
  {
   "cell_type": "code",
   "execution_count": null,
   "metadata": {},
   "outputs": [],
   "source": []
  },
  {
   "cell_type": "markdown",
   "metadata": {},
   "source": [
    "## SSL Certificate Verification"
   ]
  },
  {
   "cell_type": "markdown",
   "metadata": {},
   "source": [
    "## Session Objects"
   ]
  },
  {
   "cell_type": "code",
   "execution_count": null,
   "metadata": {},
   "outputs": [],
   "source": [
    "'''\n",
    "会话对象允许人们在不同的请求中保存某些参数。它还可以在所有从 Session 实例发出的请求中保留 cookies，并将使用 urllib3 的连接池。因此，如果有几个请求是向同一个主机发出的，底层的 TCP 连接将被重复使用，这可以导致性能的显著提高。一个会话对象的所有方法与请求一样。\n",
    "\n",
    "使用会话对象\n",
    "让我们通过给一个URL设置一个cookie，然后再次发出请求来检查cookie是否被设置，来说明会话对象的使用。\n",
    "'''"
   ]
  },
  {
   "cell_type": "code",
   "execution_count": null,
   "metadata": {},
   "outputs": [],
   "source": [
    "\n",
    "# import requests module\n",
    "import requests\n",
    "  \n",
    "# create a session object\n",
    "s = requests.Session()\n",
    "  \n",
    "# make a get request\n",
    "s.get('https://httpbin.org/cookies/set/sessioncookie/123456789')\n",
    "  \n",
    "# again make a get request\n",
    "r = s.get('https://httpbin.org/cookies')\n",
    "  \n",
    "# check if cookie is still set\n",
    "print(r.text)"
   ]
  },
  {
   "cell_type": "markdown",
   "metadata": {},
   "source": [
    "## Implementing Web Scraping in Python with BeautifulSoup"
   ]
  },
  {
   "cell_type": "code",
   "execution_count": null,
   "metadata": {},
   "outputs": [],
   "source": [
    "'''\n",
    "There are mainly two ways to extract data from a website:\n",
    "\n",
    "Use the API of the website (if it exists). \n",
    "For example, Facebook has the Facebook Graph API which allows retrieval of data posted on Facebook.\n",
    "\n",
    "Access the HTML of the webpage and extract useful information/data from it. \n",
    "This technique is called web scraping or web harvesting or web data extraction.\n",
    "'''"
   ]
  },
  {
   "cell_type": "markdown",
   "metadata": {},
   "source": [
    "### Steps involved in web scraping:"
   ]
  },
  {
   "cell_type": "code",
   "execution_count": null,
   "metadata": {},
   "outputs": [],
   "source": [
    "'''\n",
    "1. Send an HTTP request to the URL of the webpage you want to access. \n",
    "    The server responds to the request by returning the HTML content of the webpage.\n",
    "    For this task, we will use a third-party HTTP library for python-requests.\n",
    "\n",
    "2. Once we have accessed the HTML content, we are left with the task of parsing the data. \n",
    "    Since most of the HTML data is nested, we cannot extract data simply through string processing. \n",
    "    One needs a parser which can create a nested/tree structure of the HTML data. \n",
    "    There are many HTML parser libraries available but the most advanced one is html5lib.\n",
    "3. Now, all we need to do is navigating and searching the parse tree that we created, i.e. tree traversal. \n",
    "\n",
    "    For this task, we will be using another third-party python library, Beautiful Soup. \n",
    "    It is a Python library for pulling data out of HTML and XML files.\n",
    "'''"
   ]
  },
  {
   "cell_type": "markdown",
   "metadata": {},
   "source": [
    "### Step 1: Installing the required third-party libraries"
   ]
  },
  {
   "cell_type": "code",
   "execution_count": null,
   "metadata": {},
   "outputs": [],
   "source": [
    "'''\n",
    "pip install requests\n",
    "pip install html5lib\n",
    "pip install bs4\n",
    "'''"
   ]
  },
  {
   "cell_type": "markdown",
   "metadata": {},
   "source": [
    "### Step 2: Accessing the HTML content from webpage"
   ]
  },
  {
   "cell_type": "code",
   "execution_count": null,
   "metadata": {},
   "outputs": [],
   "source": [
    "import requests\n",
    "URL = \"https://www.geeksforgeeks.org/data-structures/\"\n",
    "r = requests.get(URL) #Send a HTTP request to the specified URL and save the response from server in a response object called r.\n",
    "print(r.content)"
   ]
  },
  {
   "cell_type": "markdown",
   "metadata": {},
   "source": [
    "### Step 3: Parsing the HTML content"
   ]
  },
  {
   "cell_type": "code",
   "execution_count": null,
   "metadata": {},
   "outputs": [],
   "source": [
    "import requests\n",
    "from bs4 import BeautifulSoup\n",
    "import html5lib\n",
    "  \n",
    "URL = \"http://www.values.com/inspirational-quotes\"\n",
    "r = requests.get(URL)\n",
    "  \n",
    "#soup = BeautifulSoup(r.content, 'lxml') \n",
    "#soup = BeautifulSoup(r.content, 'html.parser') \n",
    "soup = BeautifulSoup(r.content, 'html5lib')  #If this line causes an error, run 'pip install html5lib' or install html5lib\n",
    "'''\n",
    "A really nice thing about the BeautifulSoup library is that it is built on the top of the HTML parsing libraries like html5lib, lxml, html.parser, etc. \n",
    "So  BeautifulSoup object and specify the parser library can be created at the same time.\n",
    "'''\n",
    "print(soup.prettify())"
   ]
  },
  {
   "cell_type": "markdown",
   "metadata": {},
   "source": [
    "### Step 4: Searching and navigating through the parse tree"
   ]
  },
  {
   "cell_type": "code",
   "execution_count": null,
   "metadata": {},
   "outputs": [],
   "source": [
    "import csv\n",
    "\n",
    "quotes=[]  # a list to store quotes\n",
    "\n",
    "#The first argument is the HTML tag you want to search and second argument is a dictionary type element to specify the additional attributes associated with that tag. \n",
    "#find() method returns the first matching element.\n",
    "table = soup.find('div', attrs = {'id':'all_quotes'}) \n",
    "\n",
    "#Here, we use findAll() method which is similar to find method in terms of arguments but it returns a list of all matching elements.\n",
    "#Each quote is now iterated using a variable called row.   \n",
    "for row in table.findAll('div',\n",
    "                         attrs = {'class':'col-6 col-lg-3 text-center margin-30px-bottom sm-margin-30px-top'}):\n",
    "    \n",
    "    quote = {}\n",
    "    #To access the text inside an HTML element, we use .text :\n",
    "    quote['theme'] = row.h5.text\n",
    "    quote['url'] = row.a['href']\n",
    "    quote['img'] = row.img['src']\n",
    "    quote['lines'] = row.img['alt'].split(\" #\")[0]\n",
    "    quote['author'] = row.img['alt'].split(\" #\")[1]\n",
    "    quotes.append(quote)"
   ]
  },
  {
   "cell_type": "code",
   "execution_count": null,
   "metadata": {},
   "outputs": [],
   "source": [
    "#we would like to save all our data in some CSV file.  \n",
    "filename = 'inspirational_quotes.csv'\n",
    "with open(filename, 'w', newline='') as f:\n",
    "    w = csv.DictWriter(f,['theme','url','img','lines','author'])\n",
    "    w.writeheader()\n",
    "    for quote in quotes:\n",
    "        w.writerow(quote)"
   ]
  },
  {
   "cell_type": "code",
   "execution_count": null,
   "metadata": {},
   "outputs": [],
   "source": [
    "table.findAll('div',attrs = {'class':'col-6 col-lg-3 text-center margin-30px-bottom sm-margin-30px-top'})"
   ]
  },
  {
   "cell_type": "markdown",
   "metadata": {},
   "source": [
    "# edureka \n",
    "https://www.edureka.co/blog/python-requests-tutorial/"
   ]
  },
  {
   "cell_type": "code",
   "execution_count": null,
   "metadata": {},
   "outputs": [],
   "source": [
    "import requests\n",
    "req = requests.get(\"https://www.edureka.co/\")\n",
    "# req = requests.get('<a href=\"https://www.edureka.co/\">https://www.edureka.co/</a>')"
   ]
  },
  {
   "cell_type": "code",
   "execution_count": null,
   "metadata": {},
   "outputs": [],
   "source": [
    "req.encoding"
   ]
  },
  {
   "cell_type": "code",
   "execution_count": null,
   "metadata": {},
   "outputs": [],
   "source": [
    "req.status_code"
   ]
  },
  {
   "cell_type": "code",
   "execution_count": null,
   "metadata": {},
   "outputs": [],
   "source": [
    "req.elapsed # returns datetime.timedelta(0, 1, 666890)"
   ]
  },
  {
   "cell_type": "code",
   "execution_count": null,
   "metadata": {},
   "outputs": [],
   "source": [
    "req.url"
   ]
  },
  {
   "cell_type": "code",
   "execution_count": null,
   "metadata": {},
   "outputs": [],
   "source": [
    "req.history "
   ]
  },
  {
   "cell_type": "code",
   "execution_count": null,
   "metadata": {},
   "outputs": [],
   "source": [
    "req.headers['Content-Type']\n",
    "# returns 'text/html; charset=utf-8'\n"
   ]
  },
  {
   "cell_type": "code",
   "execution_count": null,
   "metadata": {},
   "outputs": [],
   "source": [
    "import requests\n",
    "req = requests.get('https://d1jnx9ba8s6j9r.cloudfront.net/blog/wp-content/uploads/2018/11/Forest_Background_Optimized.jpg', stream=True)\n",
    "req.raise_for_status()\n",
    "with open('Forest.jpg', 'wb') as fd:\n",
    "    for chunk in req.iter_content(chunk_size=50000):\n",
    "        print('Received a Chunk')\n",
    "        fd.write(chunk)\n"
   ]
  },
  {
   "cell_type": "code",
   "execution_count": null,
   "metadata": {},
   "outputs": [],
   "source": [
    "import requests\n",
    " \n",
    "query = {'q': 'Forest', 'order': 'popular', 'min_width': '800', 'min_height': '600'}\n",
    "req = requests.get(\"https://pixabay.com/en/photos/\", params=query)\n",
    " \n",
    "req.url\n",
    "# returns '<a href=\"https://pixabay.com/en/photos/?order=popular_height=600&q=Forest&min_width=800\">https://pixabay.com/en/photos/?order=popular_height=600&q=Forest&min_width=800</a>'\n"
   ]
  },
  {
   "cell_type": "code",
   "execution_count": null,
   "metadata": {},
   "outputs": [],
   "source": [
    "import requests\n",
    "req = requests.post(\"https://en.wikipedia.org/w/index.php\", data = {'search':'Nanotechnology'})\n",
    "req.raise_for_status()\n",
    "with open('Nanotechnology.html', 'wb') as fd:\n",
    "    for chunk in req.iter_content(chunk_size=50000):\n",
    "        fd.write(chunk)"
   ]
  },
  {
   "cell_type": "code",
   "execution_count": null,
   "metadata": {},
   "outputs": [],
   "source": [
    "import requests\n",
    " \n",
    "url = \"http://some-domain.com/set/cookies/headers\"\n",
    " \n",
    "headers = {'user-agent': 'your-own-user-agent/0.0.1'}\n",
    "cookies = {'visit-month': 'February'}\n",
    " \n",
    "req = requests.get(url, headers=headers, cookies=cookies)\n",
    "req.content"
   ]
  },
  {
   "cell_type": "code",
   "execution_count": null,
   "metadata": {},
   "outputs": [],
   "source": [
    "import requests\n",
    " \n",
    "jar = requests.cookies.RequestsCookieJar()\n",
    "jar.set('first_cookie', 'first', domain='httpbin.org', path='/cookies')\n",
    "jar.set('second_cookie', 'second', domain='httpbin.org', path='/extra')\n",
    "jar.set('third_cookie', 'third', domain='httpbin.org', path='/cookies')\n",
    " \n",
    "url = \"http://httpbin.org/cookies\"\n",
    "req = requests.get(url, cookies=jar)\n",
    " \n",
    "req.text\n",
    " \n",
    "# returns '{ \"cookies\": { \"first_cookie\": \"first\", \"third_cookie\": \"third\" }}'\n"
   ]
  },
  {
   "cell_type": "code",
   "execution_count": null,
   "metadata": {},
   "outputs": [],
   "source": [
    "import requests\n",
    " \n",
    "ssn = requests.Session()\n",
    "ssn.cookies.update({'visit-month': 'February'})\n",
    " \n",
    "reqOne = ssn.get(\"http://httpbin.org/cookies\")\n",
    "print(reqOne.text)\n",
    "# prints information about \"visit-month\" cookie\n",
    " \n",
    "reqTwo = ssn.get(\"http://httpbin.org/cookies\", cookies={'visit-year': '2017'})\n",
    "print(reqTwo.text)\n",
    "# prints information about \"visit-month\" and \"visit-year\" cookie\n",
    " \n",
    "reqThree = ssn.get(\"http://httpbin.org/cookies\")\n",
    "print(reqThree.text)\n",
    "# prints information about \"visit-month\" cookie\n"
   ]
  },
  {
   "cell_type": "markdown",
   "metadata": {},
   "source": [
    "# requests-html"
   ]
  },
  {
   "cell_type": "code",
   "execution_count": null,
   "metadata": {},
   "outputs": [],
   "source": [
    "'''\n",
    "https://medium.com/analytics-vidhya/the-modern-way-of-web-scraping-requests-html-2567ba2554f4\n",
    "https://pypi.org/project/requests-html/\n",
    "https://docs.python-requests.org/projects/requests-html/en/latest/\n",
    "\n",
    "\n",
    "'''"
   ]
  },
  {
   "cell_type": "code",
   "execution_count": null,
   "metadata": {},
   "outputs": [],
   "source": [
    "'''\n",
    "Full JavaScript support!\n",
    "CSS Selectors (a.k.a jQuery-style, thanks to PyQuery).\n",
    "XPath Selectors, for the faint of heart.\n",
    "Mocked user-agent (like a real web browser).\n",
    "Automatic following of redirects.\n",
    "Connection–pooling and cookie persistence.\n",
    "The Requests experience you know and love, with magical parsing abilities.\n",
    "Async Support\n",
    "'''"
   ]
  },
  {
   "cell_type": "markdown",
   "metadata": {},
   "source": [
    "## Installation"
   ]
  },
  {
   "cell_type": "code",
   "execution_count": null,
   "metadata": {},
   "outputs": [],
   "source": [
    "'''\n",
    "requests-html has the advantage over urllib and beautiful-soup \n",
    "since it’s way easier to use and combines the features of the two into one library.\n",
    "requests-html比urllib和beautiful-soup更有优势，因为它更容易使用，并将两者的功能结合到一个库中。\n",
    "'''"
   ]
  },
  {
   "cell_type": "code",
   "execution_count": null,
   "metadata": {},
   "outputs": [],
   "source": [
    "# pip install requests-html\n",
    "import requests_html"
   ]
  },
  {
   "cell_type": "markdown",
   "metadata": {},
   "source": [
    "## Tutorial & Usage"
   ]
  },
  {
   "cell_type": "markdown",
   "metadata": {},
   "source": [
    "## async session"
   ]
  },
  {
   "cell_type": "code",
   "execution_count": null,
   "metadata": {},
   "outputs": [],
   "source": []
  },
  {
   "cell_type": "markdown",
   "metadata": {},
   "source": [
    "## JavaScript Support"
   ]
  },
  {
   "cell_type": "code",
   "execution_count": null,
   "metadata": {},
   "outputs": [],
   "source": [
    "from requests_html import AsyncHTMLSession\n",
    "asession = AsyncHTMLSession()\n",
    "r = asession.get('http://python-requests.org/')\n",
    "await r.html.arender()\n",
    "r.html.search('Python 2 will retire in only {months} months!')['months']"
   ]
  },
  {
   "cell_type": "code",
   "execution_count": null,
   "metadata": {},
   "outputs": [],
   "source": []
  },
  {
   "cell_type": "markdown",
   "metadata": {},
   "source": [
    "## Pagination"
   ]
  },
  {
   "cell_type": "code",
   "execution_count": null,
   "metadata": {},
   "outputs": [],
   "source": [
    "from requests_html import HTMLSession\n",
    "session = HTMLSession()\n",
    "r = session.get('https://reddit.com')\n",
    "for html in r.html:\n",
    "    print(html)"
   ]
  },
  {
   "cell_type": "code",
   "execution_count": null,
   "metadata": {},
   "outputs": [],
   "source": [
    "from requests_html import AsyncHTMLSession\n",
    "asession = AsyncHTMLSession()\n",
    "r = await asession.get('https://reddit.com')\n",
    "r.html.next()"
   ]
  },
  {
   "cell_type": "markdown",
   "metadata": {},
   "source": [
    "## implement requests-html"
   ]
  },
  {
   "cell_type": "code",
   "execution_count": null,
   "metadata": {},
   "outputs": [],
   "source": [
    "# https://medium.com/analytics-vidhya/the-modern-way-of-web-scraping-requests-html-2567ba2554f4\n",
    "#In this tutorial, I will show you the basics of web scraping with requests-html, the modern way of scraping data off of websites."
   ]
  },
  {
   "cell_type": "code",
   "execution_count": 1,
   "metadata": {},
   "outputs": [],
   "source": [
    "import requests_html\n",
    "import csv"
   ]
  },
  {
   "cell_type": "markdown",
   "metadata": {},
   "source": [
    "### Extracting Data"
   ]
  },
  {
   "cell_type": "code",
   "execution_count": 2,
   "metadata": {},
   "outputs": [],
   "source": [
    "#The sessionrequests websites like a normal web browser, \n",
    "#and most importantly, it looks to the website like a browser as well. \n",
    "#会话像普通的网络浏览器一样请求网站，最重要的是，它在网站上看起来也像一个浏览器。\n",
    "from requests_html import HTMLSession\n",
    "session = HTMLSession()"
   ]
  },
  {
   "cell_type": "code",
   "execution_count": 3,
   "metadata": {},
   "outputs": [],
   "source": [
    "url ='https://github.com/davidkowalk?tab=repositories'\n",
    "response = session.get(url)"
   ]
  },
  {
   "cell_type": "code",
   "execution_count": null,
   "metadata": {},
   "outputs": [],
   "source": [
    "#Open the website in the browser of your choice, \n",
    "#1.right-click on one of the list-items and select Inspect-Element"
   ]
  },
  {
   "cell_type": "code",
   "execution_count": 4,
   "metadata": {},
   "outputs": [
    {
     "data": {
      "text/plain": [
       "<Element 'div' id='user-repositories-list'>"
      ]
     },
     "execution_count": 4,
     "metadata": {},
     "output_type": "execute_result"
    }
   ],
   "source": [
    "#2.The list is in a <div> Element with the id “user-repositories-list” Let’s search for that.\n",
    "container = response.html.find(\"#user-repositories-list\", first=True)\n",
    "container"
   ]
  },
  {
   "cell_type": "code",
   "execution_count": 5,
   "metadata": {},
   "outputs": [
    {
     "data": {
      "text/plain": [
       "[<Element 'li' class=('col-12', 'd-flex', 'width-full', 'py-4', 'border-bottom', 'color-border-muted', 'public', 'source') itemprop='owns' itemscope='' itemtype='http://schema.org/Code'>,\n",
       " <Element 'li' class=('col-12', 'd-flex', 'width-full', 'py-4', 'border-bottom', 'color-border-muted', 'public', 'source') itemprop='owns' itemscope='' itemtype='http://schema.org/Code'>,\n",
       " <Element 'li' class=('col-12', 'd-flex', 'width-full', 'py-4', 'border-bottom', 'color-border-muted', 'public', 'source') itemprop='owns' itemscope='' itemtype='http://schema.org/Code'>,\n",
       " <Element 'li' class=('col-12', 'd-flex', 'width-full', 'py-4', 'border-bottom', 'color-border-muted', 'public', 'source') itemprop='owns' itemscope='' itemtype='http://schema.org/Code'>,\n",
       " <Element 'li' class=('col-12', 'd-flex', 'width-full', 'py-4', 'border-bottom', 'color-border-muted', 'public', 'source') itemprop='owns' itemscope='' itemtype='http://schema.org/Code'>,\n",
       " <Element 'li' class=('col-12', 'd-flex', 'width-full', 'py-4', 'border-bottom', 'color-border-muted', 'public', 'source') itemprop='owns' itemscope='' itemtype='http://schema.org/Code'>,\n",
       " <Element 'li' class=('col-12', 'd-flex', 'width-full', 'py-4', 'border-bottom', 'color-border-muted', 'public', 'source') itemprop='owns' itemscope='' itemtype='http://schema.org/Code'>,\n",
       " <Element 'li' class=('col-12', 'd-flex', 'width-full', 'py-4', 'border-bottom', 'color-border-muted', 'public', 'source') itemprop='owns' itemscope='' itemtype='http://schema.org/Code'>,\n",
       " <Element 'li' class=('col-12', 'd-flex', 'width-full', 'py-4', 'border-bottom', 'color-border-muted', 'public', 'fork') itemprop='owns' itemscope='' itemtype='http://schema.org/Code'>,\n",
       " <Element 'li' class=('col-12', 'd-flex', 'width-full', 'py-4', 'border-bottom', 'color-border-muted', 'public', 'source') itemprop='owns' itemscope='' itemtype='http://schema.org/Code'>,\n",
       " <Element 'li' class=('col-12', 'd-flex', 'width-full', 'py-4', 'border-bottom', 'color-border-muted', 'public', 'source') itemprop='owns' itemscope='' itemtype='http://schema.org/Code'>,\n",
       " <Element 'li' class=('col-12', 'd-flex', 'width-full', 'py-4', 'border-bottom', 'color-border-muted', 'public', 'source') itemprop='owns' itemscope='' itemtype='http://schema.org/Code'>,\n",
       " <Element 'li' class=('col-12', 'd-flex', 'width-full', 'py-4', 'border-bottom', 'color-border-muted', 'public', 'source') itemprop='owns' itemscope='' itemtype='http://schema.org/Code'>,\n",
       " <Element 'li' class=('col-12', 'd-flex', 'width-full', 'py-4', 'border-bottom', 'color-border-muted', 'public', 'source') itemprop='owns' itemscope='' itemtype='http://schema.org/Code'>,\n",
       " <Element 'li' class=('col-12', 'd-flex', 'width-full', 'py-4', 'border-bottom', 'color-border-muted', 'public', 'source') itemprop='owns' itemscope='' itemtype='http://schema.org/Code'>,\n",
       " <Element 'li' class=('col-12', 'd-flex', 'width-full', 'py-4', 'border-bottom', 'color-border-muted', 'public', 'source') itemprop='owns' itemscope='' itemtype='http://schema.org/Code'>,\n",
       " <Element 'li' class=('col-12', 'd-flex', 'width-full', 'py-4', 'border-bottom', 'color-border-muted', 'public', 'fork') itemprop='owns' itemscope='' itemtype='http://schema.org/Code'>,\n",
       " <Element 'li' class=('col-12', 'd-flex', 'width-full', 'py-4', 'border-bottom', 'color-border-muted', 'public', 'source') itemprop='owns' itemscope='' itemtype='http://schema.org/Code'>,\n",
       " <Element 'li' class=('col-12', 'd-flex', 'width-full', 'py-4', 'border-bottom', 'color-border-muted', 'public', 'source') itemprop='owns' itemscope='' itemtype='http://schema.org/Code'>,\n",
       " <Element 'li' class=('col-12', 'd-flex', 'width-full', 'py-4', 'border-bottom', 'color-border-muted', 'public', 'source') itemprop='owns' itemscope='' itemtype='http://schema.org/Code'>,\n",
       " <Element 'li' class=('col-12', 'd-flex', 'width-full', 'py-4', 'border-bottom', 'color-border-muted', 'public', 'source') itemprop='owns' itemscope='' itemtype='http://schema.org/Code'>,\n",
       " <Element 'li' class=('col-12', 'd-flex', 'width-full', 'py-4', 'border-bottom', 'color-border-muted', 'public', 'source') itemprop='owns' itemscope='' itemtype='http://schema.org/Code'>,\n",
       " <Element 'li' class=('col-12', 'd-flex', 'width-full', 'py-4', 'border-bottom', 'color-border-muted', 'public', 'source') itemprop='owns' itemscope='' itemtype='http://schema.org/Code'>,\n",
       " <Element 'li' class=('col-12', 'd-flex', 'width-full', 'py-4', 'border-bottom', 'color-border-muted', 'public', 'source') itemprop='owns' itemscope='' itemtype='http://schema.org/Code'>,\n",
       " <Element 'li' class=('col-12', 'd-flex', 'width-full', 'py-4', 'border-bottom', 'color-border-muted', 'public', 'source') itemprop='owns' itemscope='' itemtype='http://schema.org/Code'>,\n",
       " <Element 'li' class=('col-12', 'd-flex', 'width-full', 'py-4', 'border-bottom', 'color-border-muted', 'public', 'source') itemprop='owns' itemscope='' itemtype='http://schema.org/Code'>,\n",
       " <Element 'li' class=('col-12', 'd-flex', 'width-full', 'py-4', 'border-bottom', 'color-border-muted', 'public', 'source') itemprop='owns' itemscope='' itemtype='http://schema.org/Code'>,\n",
       " <Element 'li' class=('col-12', 'd-flex', 'width-full', 'py-4', 'border-bottom', 'color-border-muted', 'public', 'source') itemprop='owns' itemscope='' itemtype='http://schema.org/Code'>,\n",
       " <Element 'li' class=('col-12', 'd-flex', 'width-full', 'py-4', 'border-bottom', 'color-border-muted', 'public', 'source') itemprop='owns' itemscope='' itemtype='http://schema.org/Code'>,\n",
       " <Element 'li' class=('col-12', 'd-flex', 'width-full', 'py-4', 'border-bottom', 'color-border-muted', 'public', 'source') itemprop='owns' itemscope='' itemtype='http://schema.org/Code'>]"
      ]
     },
     "execution_count": 5,
     "metadata": {},
     "output_type": "execute_result"
    }
   ],
   "source": [
    "list = container.find(\"li\")\n",
    "list"
   ]
  },
  {
   "cell_type": "code",
   "execution_count": null,
   "metadata": {},
   "outputs": [],
   "source": [
    "#This will return a list of all the repositories. A # is the html-marker for an id-tag. \n",
    "# Now for every list, we want to find the name of the repository and its language to write in a file. \n",
    "# First, we’ll prepare the data structure. \n",
    "# The list should contain a header and then we want to append our data points.\n",
    "#这将返回一个所有存储库的列表。\n",
    "# 一个#是一个id-tag的html标记。\n",
    "# 现在，对于每一个列表，我们要找到资源库的名称和它的语言，以便写进文件。\n",
    "# 首先，我们要准备数据结构。列表应该包含一个头，然后我们要附加上我们的数据点。\n",
    "\n",
    "sheet = [[\"Name\", \"Language\"]]\n",
    "sheet"
   ]
  },
  {
   "cell_type": "code",
   "execution_count": null,
   "metadata": {},
   "outputs": [],
   "source": [
    "#Now let’s iterate over all elements in the list and find name and language.\n",
    "#现在让我们遍历列表中的所有元素，找到名字和语言。\n",
    "for item in list:\n",
    "    elements = item.text.split(\"\\n\")#.text 文本内容\n",
    "    name = elements[0]\n",
    "    lang = elements[2]\n",
    "    sheet.append([name, lang])\n",
    "sheet"
   ]
  },
  {
   "cell_type": "code",
   "execution_count": null,
   "metadata": {},
   "outputs": [],
   "source": [
    "#\n",
    "elements"
   ]
  },
  {
   "cell_type": "code",
   "execution_count": null,
   "metadata": {},
   "outputs": [],
   "source": [
    "#elements is an array of all the info in each item on the list. \n"
   ]
  },
  {
   "cell_type": "markdown",
   "metadata": {},
   "source": [
    "### Saving your data"
   ]
  },
  {
   "cell_type": "code",
   "execution_count": null,
   "metadata": {},
   "outputs": [],
   "source": [
    "#Now we have a 2-dimensional list of all the info we wanted. \n",
    "# All we have to do is to write it in a file. \n",
    "# CSV is an open table format, which can be opened with Excel, or similar programs. \n",
    "# The CSV-Package implemented in Python can we used to read and write files easily:\n",
    "#现在我们有了一个包含所有我们想要的信息的二维列表。\n",
    "#我们要做的就是把它写进一个文件。\n",
    "#CSV 是一种开放的表格格式，可以用 Excel 或类似的程序打开。\n",
    "#在Python中实现的CSV-Package可以用来轻松地读写文件。"
   ]
  },
  {
   "cell_type": "code",
   "execution_count": null,
   "metadata": {},
   "outputs": [],
   "source": [
    "with open(\"Filename.csv\", \"w\", newline='', encoding='utf-8') as file:\n",
    "    writer = csv.writer(file)\n",
    "    writer.writerows(sheet)\n"
   ]
  },
  {
   "cell_type": "code",
   "execution_count": null,
   "metadata": {},
   "outputs": [],
   "source": [
    "'''\n",
    "模式\t可做操作\t若文件不存在\t是否覆盖\n",
    "r\t   只能读\t   报错\t          -\n",
    "r+\t   可读可写\t    报错\t      是\n",
    "w\t   只能写\t   创建\t         是\n",
    "w+　   可读可写\t    创建\t      是\n",
    "a　　   只能写\t    创建\t      否，追加写\n",
    "a+\t   可读可写\t    创建\t      否，追加写\n",
    "'''"
   ]
  },
  {
   "cell_type": "code",
   "execution_count": 68,
   "metadata": {},
   "outputs": [
    {
     "name": "stdout",
     "output_type": "stream",
     "text": [
      "电影名称为： 八佰\n",
      "电影评分为： 7.5\n",
      "详情页地址为： https://movie.douban.com/subject/26754233/\n",
      "图片地址为： https://img9.doubanio.com/view/photo/s_ratio_poster/public/p2615992304.jpg\n",
      "电影名称为： 我和我的家乡\n",
      "电影评分为： 7.1\n",
      "详情页地址为： https://movie.douban.com/subject/35051512/\n",
      "图片地址为： https://img9.doubanio.com/view/photo/s_ratio_poster/public/p2620453443.jpg\n",
      "电影名称为： 送你一朵小红花\n",
      "电影评分为： 7.3\n",
      "详情页地址为： https://movie.douban.com/subject/35096844/\n",
      "图片地址为： https://img9.doubanio.com/view/photo/s_ratio_poster/public/p2618247457.jpg\n",
      "电影名称为： 姜子牙\n",
      "电影评分为： 6.7\n",
      "详情页地址为： https://movie.douban.com/subject/25907124/\n",
      "图片地址为： https://img9.doubanio.com/view/photo/s_ratio_poster/public/p2621219978.jpg\n",
      "电影名称为： 夺冠\n",
      "电影评分为： 7.2\n",
      "详情页地址为： https://movie.douban.com/subject/30128916/\n",
      "图片地址为： https://img9.doubanio.com/view/photo/s_ratio_poster/public/p2620083313.jpg\n",
      "电影名称为： 信条\n",
      "电影评分为： 7.6\n",
      "详情页地址为： https://movie.douban.com/subject/30444960/\n",
      "图片地址为： https://img9.doubanio.com/view/photo/s_ratio_poster/public/p2612061299.jpg\n",
      "电影名称为： 心灵奇旅\n",
      "电影评分为： 8.7\n",
      "详情页地址为： https://movie.douban.com/subject/24733428/\n",
      "图片地址为： https://img9.doubanio.com/view/photo/s_ratio_poster/public/p2626308994.jpg\n",
      "电影名称为： 拆弹专家2\n",
      "电影评分为： 7.5\n",
      "详情页地址为： https://movie.douban.com/subject/30171424/\n",
      "图片地址为： https://img9.doubanio.com/view/photo/s_ratio_poster/public/p2621379901.jpg\n",
      "电影名称为： 囧妈\n",
      "电影评分为： 5.9\n",
      "详情页地址为： https://movie.douban.com/subject/30306570/\n",
      "图片地址为： https://img9.doubanio.com/view/photo/s_ratio_poster/public/p2581835383.jpg\n",
      "电影名称为： 金刚川\n",
      "电影评分为： 6.5\n",
      "详情页地址为： https://movie.douban.com/subject/35155748/\n",
      "图片地址为： https://img9.doubanio.com/view/photo/s_ratio_poster/public/p2623301908.jpg\n",
      "电影名称为： 困在时间里的父亲\n",
      "电影评分为： 8.6\n",
      "详情页地址为： https://movie.douban.com/subject/33432655/\n",
      "图片地址为： https://img9.doubanio.com/view/photo/s_ratio_poster/public/p2654915204.jpg\n",
      "电影名称为： 沐浴之王\n",
      "电影评分为： 6.0\n",
      "详情页地址为： https://movie.douban.com/subject/34894753/\n",
      "图片地址为： https://img9.doubanio.com/view/photo/s_ratio_poster/public/p2627788612.jpg\n",
      "电影名称为： 花木兰\n",
      "电影评分为： 4.9\n",
      "详情页地址为： https://movie.douban.com/subject/26357307/\n",
      "图片地址为： https://img9.doubanio.com/view/photo/s_ratio_poster/public/p2590336843.jpg\n",
      "电影名称为： 一点就到家\n",
      "电影评分为： 6.6\n",
      "详情页地址为： https://movie.douban.com/subject/35069506/\n",
      "图片地址为： https://img9.doubanio.com/view/photo/s_ratio_poster/public/p2621101922.jpg\n",
      "电影名称为： 波斯语课\n",
      "电影评分为： 8.1\n",
      "详情页地址为： https://movie.douban.com/subject/30466931/\n",
      "图片地址为： https://img9.doubanio.com/view/photo/s_ratio_poster/public/p2588101332.jpg\n",
      "电影名称为： 夜间小屋\n",
      "电影评分为： 6.3\n",
      "详情页地址为： https://movie.douban.com/subject/30323687/\n",
      "图片地址为： https://img9.doubanio.com/view/photo/s_ratio_poster/public/p2637498114.jpg\n",
      "电影名称为： 兔子暴力\n",
      "电影评分为： 5.9\n",
      "详情页地址为： https://movie.douban.com/subject/30289828/\n",
      "图片地址为： https://img9.doubanio.com/view/photo/s_ratio_poster/public/p2675924254.jpg\n",
      "电影名称为： 除暴\n",
      "电影评分为： 6.1\n",
      "详情页地址为： https://movie.douban.com/subject/30373723/\n",
      "图片地址为： https://img9.doubanio.com/view/photo/s_ratio_poster/public/p2625777429.jpg\n",
      "电影名称为： 疯狂原始人2\n",
      "电影评分为： 7.8\n",
      "详情页地址为： https://movie.douban.com/subject/24298954/\n",
      "图片地址为： https://img9.doubanio.com/view/photo/s_ratio_poster/public/p2624607255.jpg\n",
      "电影名称为： 温暖的抱抱\n",
      "电影评分为： 5.3\n",
      "详情页地址为： https://movie.douban.com/subject/34869362/\n",
      "图片地址为： https://img9.doubanio.com/view/photo/s_ratio_poster/public/p2618446242.jpg\n"
     ]
    }
   ],
   "source": [
    "from requests_html import HTMLSession,UserAgent    # 导入HTMLSession类\n",
    "from bs4 import BeautifulSoup\n",
    "from requests_html import AsyncHTMLSession\n",
    "ua = UserAgent().random          # 创建随机请求头\n",
    "#session = HTMLSession()          # 创建HTML会话对象\n",
    "asession = AsyncHTMLSession()\n",
    "\n",
    "# 发送网路请求\n",
    "r = await asession.get('https://movie.douban.com/tag/#/?sort=U&range=0,10'\n",
    "                '&tags=%E7%94%B5%E5%BD%B1,2020',headers = {'user-agent': ua})\n",
    "r.encoding='gb2312'              # 编码\n",
    "if r.status_code == 200:         # 判断请求是否成功\n",
    "    await r.html.arender()\n",
    "    #r.html.render()              # 调用render()方法，没有Chromium浏览器就自动下载\n",
    "    class_wp = r.html.xpath('.//div[@class=\"list-wp\"]/a')  # 获取当前页面中所有电影信息的a标签\n",
    "    for a in class_wp:\n",
    "        title = a.find('p span')[0].text  # 获取电影名称\n",
    "        rate = a.find('p span')[1].text  # 获取电影评分\n",
    "        details_url = a.attrs.get('href')  # 获取详情页url地址\n",
    "        img_url = a.find('img')[0].attrs.get('src')  # 获取图片url地址\n",
    "        print('电影名称为：', title)  # 打印电影名称\n",
    "        print('电影评分为：', rate)  # 打印电影评分\n",
    "        print('详情页地址为：', details_url)  # 打印电影详情页url地址\n",
    "        print('图片地址为：', img_url)  # 打印电影图片地址"
   ]
  },
  {
   "cell_type": "code",
   "execution_count": 73,
   "metadata": {},
   "outputs": [
    {
     "data": {
      "text/plain": [
       "'选影视\\nvar _head_start = new Date();\\nimg { max-width: 100%; }\\n.mobile-app-entrance{margin-bottom:25px;-webkit-font-smoothing:antialiased;-moz-osx-font-smoothing:grayscale;text-rendering:optimizelegibility}.mobile-app-entrance .entrance-link{display:block;height:80px;margin-top:20px;outline:none;color:#4e4e4e;background:#fafafa;overflow:hidden}.mobile-app-entrance .entrance-qrcode{float:left}.mobile-app-entrance .app-icon{width:77px;height:96px;float:left;margin-right:3px;background:url(https://img9.doubanio.com/f/movie/42fcc5d1dffcfb74f8cbcb5001e022ca0fa70c98/pics/movie/douban_app_ad/logo.png) no-repeat;background-size:contain;margin-top:-5px}.mobile-app-entrance .main-title,.mobile-app-entrance .sub-title{display:block;font-size:14px;padding-top:2px}.mobile-app-entrance .main-title{color:#111;font-size:18px;font-weight:bold;line-height:1;padding-top:20px;font-weight:400}.mobile-app-entrance .main-title span{color:#888;font-weight:100;margin-left:5px}\\nvar _body_start = new Date();\\n登录/注册\\n下载豆瓣客户端\\n豆瓣 6.0 全新发布 ×\\n豆瓣\\n扫码直接下载\\niPhone · Android\\n豆瓣\\n读书\\n电影\\n音乐\\n同城\\n小组\\n阅读\\nFM\\n时间\\n豆品\\n;window._GLOBAL_NAV = { DOUBAN_URL: \"https://www.douban.com\", N_NEW_NOTIS: 0, N_NEW_DOUMAIL: 0 };\\n豆瓣电影\\n搜索：\\n影讯&购票\\n选电影\\n电视剧\\n排行榜\\n分类\\n影评\\n2020年度榜单\\n2020书影音报告\\n<li data-link=\"{{= url}}\"> <a href=\"{{= url}}\" onclick=\"moreurl(this, {from:\\'movie_search_sugg\\', query:\\'{{= keyword }}\\', subject_id:\\'{{= id}}\\', i: \\'{{= index}}\\', type: \\'{{= type}}\\'})\"> <img src=\"{{= img}}\" width=\"40\" /> <p> <em>{{= title}}</em> {{if year}} <span>{{= year}}</span> {{/if}} {{if sub_title}} <br /><span>{{= sub_title}}</span> {{/if}} {{if address}} <br /><span>{{= address}}</span> {{/if}} {{if episode}} {{if episode==\"unknow\"}} <br /><span>集数未知</span> {{else}} <br /><span>共{{= episode}}集</span> {{/if}} {{/if}} </p> </a> </li>\\n选影视\\n全部形式\\n电影\\n电视剧\\n综艺\\n动漫\\n纪录片\\n短片\\n全部类型\\n剧情\\n喜剧\\n动作\\n爱情\\n科幻\\n动画\\n悬疑\\n惊悚\\n恐怖\\n犯罪\\n同性\\n音乐\\n歌舞\\n传记\\n历史\\n战争\\n西部\\n奇幻\\n冒险\\n灾难\\n武侠\\n情色\\n全部地区\\n中国大陆\\n欧美\\n美国\\n中国香港\\n中国台湾\\n日本\\n韩国\\n英国\\n法国\\n德国\\n意大利\\n西班牙\\n印度\\n泰国\\n俄罗斯\\n伊朗\\n加拿大\\n澳大利亚\\n爱尔兰\\n瑞典\\n巴西\\n丹麦\\n全部年代\\n2021\\n2020\\n2019\\n2010年代\\n2000年代\\n90年代\\n80年代\\n70年代\\n60年代\\n更早\\n全部特色\\n经典\\n青春\\n文艺\\n搞笑\\n励志\\n魔幻\\n感人\\n女性\\n黑帮\\n+ 自定义标签\\n近期热门标记最多评分最高最新上映\\n可播放 我没看过\\n评分区间筛选\\n八佰 7.5\\n我和我的家乡 7.1\\n送你一朵小红花 7.3\\n姜子牙 6.7\\n夺冠 7.2\\n信条 7.6\\n心灵奇旅 8.7\\n拆弹专家2 7.5\\n囧妈 5.9\\n金刚川 6.5\\n困在时间里的父亲 8.6\\n沐浴之王 6.0\\n花木兰 4.9\\n一点就到家 6.6\\n波斯语课 8.1\\n夜间小屋 6.3\\n兔子暴力 5.9\\n除暴 6.1\\n疯狂原始人2 7.8\\n温暖的抱抱 5.3\\n当前筛选没有找到结果\\n加载更多\\n豆瓣 你的口味我知道\\n© 2005－2021 douban.com, all rights reserved 北京豆网科技有限公司 关于豆瓣 · 在豆瓣工作 · 联系我们 · 法律声明 · 帮助中心 · 移动应用 · 豆瓣广告\\nvar HTTPS_DB=\\'https://www.douban.com\\'; var account_pop={open:function(o,e){e?referrer=\"?referrer=\"+encodeURIComponent(e):referrer=\"?referrer=\"+window.location.href;var n=\"\",i=\"\",t=448;n=\"用户登录\",i=\"https://accounts.douban.com/passport/login_popup?source=movie\";var r=document.location.protocol+\"//\"+document.location.hostname,a=dui.Dialog({width:340,title:n,height:t,cls:\"account_pop\",isHideTitle:!0,modal:!0,content:\"<iframe scrolling=\\'no\\' frameborder=\\'0\\' width=\\'340\\' height=\\'\"+t+\"\\' src=\\'\"+i+\"\\' name=\\'\"+r+\"\\'></iframe>\"},!0),c=a.node;if(c.undelegate(),c.delegate(\".dui-dialog-close\",\"click\",function(){var o=$(\"body\");o.find(\"#login_msk\").hide(),o.find(\".account_pop\").remove()}),$(window).width()<478){var d=\"\";\"reg\"===o?d=HTTPS_DB+\"/accounts/register\"+referrer:\"login\"===o&&(d=HTTPS_DB+\"/accounts/login\"+referrer),window.location.href=d}else a.open();$(window).bind(\"message\",function(o){\"https://accounts.douban.com\"===o.originalEvent.origin&&(c.find(\"iframe\").css(\"height\",o.originalEvent.data),c.height(o.originalEvent.data),a.update())})}};Douban&&Douban.init_show_login&&(Douban.init_show_login=function(o){var e=$(o);e.click(function(){var o=e.data(\"ref\")||\"\";return account_pop.open(\"login\",o),!1})}),Do(function(){$(\"body\").delegate(\".pop_register\",\"click\",function(o){o.preventDefault();var e=$(this).data(\"ref\")||\"\";return account_pop.open(\"reg\",e),!1}),$(\"body\").delegate(\".pop_login\",\"click\",function(o){o.preventDefault();var e=$(this).data(\"ref\")||\"\";return account_pop.open(\"login\",e),!1})}); (function (global) { var newNode = global.document.createElement(\\'script\\'), existingNode = global.document.getElementsByTagName(\\'script\\')[0], adSource = \\'//erebor.douban.com/\\', userId = \\'\\', browserId = \\'4gseNx2Z16A\\', criteria = \\'3:/tag/\\', preview = \\'\\', debug = false, adSlots = [\\'dale_movie_tags_top_right\\', \\'dale_movie_tag_bottom_banner\\']; global.DoubanAdRequest = {src: adSource, uid: userId, bid: browserId, crtr: criteria, prv: preview, debug: debug}; global.DoubanAdSlots = (global.DoubanAdSlots || []).concat(adSlots); newNode.setAttribute(\\'type\\', \\'text/javascript\\'); newNode.setAttribute(\\'src\\', \\'//img1.doubanio.com/MnJwNGlleS9mL2FkanMvY2M1OGQyNTQ2N2I2YmQzOTlmNTliMGJiMjI4MWRhZTlkNTNjYTFkZC9hZC5yZWxlYXNlLmpz\\'); newNode.setAttribute(\\'async\\', true); existingNode.parentNode.insertBefore(newNode, existingNode); })(this); $(function(){ var tag_lis = $(\\'.tags li\\'); if (tag_lis.length > 74) { for (var i=73; i<tag_lis.length-1; i++) { $(tag_lis[i]).hide(); } } }) var _paq = _paq || []; _paq.push([\\'trackPageView\\']); _paq.push([\\'enableLinkTracking\\']); (function() { var p=((\\'https:\\' == document.location.protocol) ? \\'https\\' : \\'http\\'), u=p+\\'://fundin.douban.com/\\'; _paq.push([\\'setTrackerUrl\\', u+\\'piwik\\']); _paq.push([\\'setSiteId\\', \\'100001\\']); var d=document, g=d.createElement(\\'script\\'), s=d.getElementsByTagName(\\'script\\')[0]; g.type=\\'text/javascript\\'; g.defer=true; g.async=true; g.src=p+\\'://img3.doubanio.com/dae/fundin/piwik.js\\'; s.parentNode.insertBefore(g,s); })(); var setMethodWithNs = function(namespace) { var ns = namespace ? namespace + \\'.\\' : \\'\\' , fn = function(string) { if(!ns) {return string} return ns + string } return fn } var gaWithNamespace = function(fn, namespace) { var method = setMethodWithNs(namespace) fn.call(this, method) } var _gaq = _gaq || [] , accounts = [ { id: \\'UA-7019765-1\\', namespace: \\'douban\\' } , { id: \\'UA-7019765-19\\', namespace: \\'\\' } ] , gaInit = function(account) { gaWithNamespace(function(method) { gaInitFn.call(this, method, account) }, account.namespace) } , gaInitFn = function(method, account) { _gaq.push([method(\\'_setAccount\\'), account.id]); _gaq.push([method(\\'_setSampleRate\\'), \\'5\\']); _gaq.push([method(\\'_addOrganic\\'), \\'google\\', \\'q\\']) _gaq.push([method(\\'_addOrganic\\'), \\'baidu\\', \\'wd\\']) _gaq.push([method(\\'_addOrganic\\'), \\'soso\\', \\'w\\']) _gaq.push([method(\\'_addOrganic\\'), \\'youdao\\', \\'q\\']) _gaq.push([method(\\'_addOrganic\\'), \\'so.360.cn\\', \\'q\\']) _gaq.push([method(\\'_addOrganic\\'), \\'sogou\\', \\'query\\']) if (account.namespace) { _gaq.push([method(\\'_addIgnoredOrganic\\'), \\'豆瓣\\']) _gaq.push([method(\\'_addIgnoredOrganic\\'), \\'douban\\']) _gaq.push([method(\\'_addIgnoredOrganic\\'), \\'豆瓣网\\']) _gaq.push([method(\\'_addIgnoredOrganic\\'), \\'www.douban.com\\']) } if (account.namespace === \\'douban\\') { _gaq.push([method(\\'_setDomainName\\'), \\'.douban.com\\']) } _gaq.push([method(\\'_setCustomVar\\'), 1, \\'responsive_view_mode\\', \\'desktop\\', 3]) _gaq.push([method(\\'_setCustomVar\\'), 2, \\'login_status\\', \\'0\\', 2]); _gaq.push([method(\\'_trackPageview\\')]) } for(var i = 0, l = accounts.length; i < l; i++) { var account = accounts[i] gaInit(account) } ;(function() { var ga = document.createElement(\\'script\\'); ga.src = (\\'https:\\' == document.location.protocol ? \\'https://ssl\\' : \\'http://www\\') + \\'.google-analytics.com/ga.js\\'; ga.setAttribute(\\'async\\', \\'true\\'); document.documentElement.firstChild.appendChild(ga); })() _SPLITTEST=\\'\\''"
      ]
     },
     "execution_count": 73,
     "metadata": {},
     "output_type": "execute_result"
    }
   ],
   "source": [
    "r.html.text"
   ]
  },
  {
   "cell_type": "code",
   "execution_count": null,
   "metadata": {},
   "outputs": [],
   "source": [
    "from requests_html import HTMLSession,UserAgent    # 导入HTMLSession类\n",
    "from bs4 import BeautifulSoup\n",
    "from requests_html import AsyncHTMLSession\n",
    "import csv\n",
    "asession = AsyncHTMLSession()\n",
    "r = await asession.get('https://movie.douban.com/tag/#/?sort=U&range=0,10''&tags=%E7%94%B5%E5%BD%B1,2020')\n",
    "r.encoding='gb2312'              # 编码\n",
    "await r.html.arender()\n"
   ]
  },
  {
   "cell_type": "code",
   "execution_count": 59,
   "metadata": {},
   "outputs": [
    {
     "data": {
      "text/plain": [
       "<!DOCTYPE html>\n",
       "<html class=\"ua-mac ua-webkit\" lang=\"zh-CN\">\n",
       "<head>\n",
       "<meta content=\"text/html; charset=utf-8\" http-equiv=\"Content-Type\"/>\n",
       "<meta content=\"webkit\" name=\"renderer\"/>\n",
       "<meta content=\"always\" name=\"referrer\"/>\n",
       "<meta content=\"ok0wCgT20tBBgo9_zat2iAcimtN4Ftf5ccsh092Xeyw\" name=\"google-site-verification\"/>\n",
       "<title>\n",
       "    ���褰辫��\n",
       "</title>\n",
       "<meta content=\"cZdR4xxR7RxmM4zE\" name=\"baidu-site-verification\"/>\n",
       "<meta content=\"no-cache\" http-equiv=\"Pragma\"/>\n",
       "<meta content=\"Sun, 6 Mar 2005 01:00:00 GMT\" http-equiv=\"Expires\"/>\n",
       "<link href=\"https://img9.doubanio.com/f/movie/d59b2715fdea4968a450ee5f6c95c7d7a2030065/pics/movie/apple-touch-icon.png\" rel=\"apple-touch-icon\"/>\n",
       "<link href=\"https://img9.doubanio.com/f/shire/2feae483592bf2d2bd17a378097d4246ef1ebeaa/css/douban.css\" rel=\"stylesheet\" type=\"text/css\"/>\n",
       "<link href=\"https://img9.doubanio.com/f/shire/db02bd3a4c78de56425ddeedd748a6804af60ee9/css/separation/_all.css\" rel=\"stylesheet\" type=\"text/css\"/>\n",
       "<link href=\"https://img9.doubanio.com/f/movie/252bef058b97005c6a41e8f1b9f7b06b84bc71b3/css/movie/base/init.css\" rel=\"stylesheet\"/>\n",
       "<script type=\"text/javascript\">var _head_start = new Date();</script>\n",
       "<script src=\"https://img9.doubanio.com/f/movie/0495cb173e298c28593766009c7b0a953246c5b5/js/movie/lib/jquery.js\" type=\"text/javascript\"></script>\n",
       "<script src=\"https://img9.doubanio.com/f/shire/22ee83f45f94c7a90e73e0ee4acd18f902a6991f/js/douban.js\" type=\"text/javascript\"></script>\n",
       "<script src=\"https://img9.doubanio.com/f/shire/b0d3faaf7a432605add54908e39e17746824d6cc/js/separation/_all.js\" type=\"text/javascript\"></script>\n",
       "<meta content=\"width=device-width, initial-scale=1.0, maximum-scale=1.0\" id=\"meta-viewport\" name=\"viewport\"/>\n",
       "<link href=\"https://img9.doubanio.com/f/movie/bcdc7fe654cf1845690d31a49c54e82c87fd607d/css/movie/explore/app.css\" rel=\"stylesheet\"/>\n",
       "<style type=\"text/css\"></style>\n",
       "<style type=\"text/css\">img { max-width: 100%; }</style>\n",
       "<script type=\"text/javascript\"></script>\n",
       "<style type=\"text/css\">\n",
       "    .mobile-app-entrance{margin-bottom:25px;-webkit-font-smoothing:antialiased;-moz-osx-font-smoothing:grayscale;text-rendering:optimizelegibility}.mobile-app-entrance .entrance-link{display:block;height:80px;margin-top:20px;outline:none;color:#4e4e4e;background:#fafafa;overflow:hidden}.mobile-app-entrance .entrance-qrcode{float:left}.mobile-app-entrance .app-icon{width:77px;height:96px;float:left;margin-right:3px;background:url(https://img9.doubanio.com/f/movie/42fcc5d1dffcfb74f8cbcb5001e022ca0fa70c98/pics/movie/douban_app_ad/logo.png) no-repeat;background-size:contain;margin-top:-5px}.mobile-app-entrance .main-title,.mobile-app-entrance .sub-title{display:block;font-size:14px;padding-top:2px}.mobile-app-entrance .main-title{color:#111;font-size:18px;font-weight:bold;line-height:1;padding-top:20px;font-weight:400}.mobile-app-entrance .main-title span{color:#888;font-weight:100;margin-left:5px}\n",
       "\n",
       "</style>\n",
       "<link href=\"https://img9.doubanio.com/favicon.ico\" rel=\"shortcut icon\" type=\"image/x-icon\"/>\n",
       "</head>\n",
       "<body>\n",
       "<script type=\"text/javascript\">var _body_start = new Date();</script>\n",
       "<link href=\"//img3.doubanio.com/dae/accounts/resources/d3e2921/shire/bundle.css\" rel=\"stylesheet\" type=\"text/css\"/>\n",
       "<div class=\"global-nav\" id=\"db-global-nav\">\n",
       "<div class=\"bd\">\n",
       "<div class=\"top-nav-info\">\n",
       "<a class=\"nav-login\" href=\"https://accounts.douban.com/passport/login?source=movie\" rel=\"nofollow\">��诲��/娉ㄥ��</a>\n",
       "</div>\n",
       "<div class=\"top-nav-doubanapp\">\n",
       "<a class=\"lnk-doubanapp\" href=\"https://www.douban.com/doubanapp/app?channel=top-nav\">涓�杞借����ｅ�㈡�风��</a>\n",
       "<div id=\"doubanapp-tip\">\n",
       "<a class=\"tip-link\" href=\"https://www.douban.com/doubanapp/app?channel=qipao\">璞���� <span class=\"version\">6.0</span> ��ㄦ�板��甯�</a>\n",
       "<a class=\"tip-close\" href=\"javascript: void 0;\">��</a>\n",
       "</div>\n",
       "<div class=\"more-items\" id=\"top-nav-appintro\">\n",
       "<p class=\"appintro-title\">璞����</p>\n",
       "<p class=\"qrcode\">��������存�ヤ��杞�</p>\n",
       "<div class=\"download\">\n",
       "<a href=\"https://www.douban.com/doubanapp/redirect?channel=top-nav&amp;direct_dl=1&amp;download=iOS\">iPhone</a>\n",
       "<span>路</span>\n",
       "<a class=\"download-android\" href=\"https://www.douban.com/doubanapp/redirect?channel=top-nav&amp;direct_dl=1&amp;download=Android\">Android</a>\n",
       "</div>\n",
       "</div>\n",
       "</div>\n",
       "<div class=\"global-nav-items\">\n",
       "<ul>\n",
       "<li class=\"\">\n",
       "<a data-moreurl-dict='{\"from\":\"top-nav-click-main\",\"uid\":\"0\"}' href=\"https://www.douban.com\" target=\"_blank\">璞����</a>\n",
       "</li>\n",
       "<li class=\"\">\n",
       "<a data-moreurl-dict='{\"from\":\"top-nav-click-book\",\"uid\":\"0\"}' href=\"https://book.douban.com\" target=\"_blank\">璇讳功</a>\n",
       "</li>\n",
       "<li class=\"on\">\n",
       "<a data-moreurl-dict='{\"from\":\"top-nav-click-movie\",\"uid\":\"0\"}' href=\"https://movie.douban.com\">��靛奖</a>\n",
       "</li>\n",
       "<li class=\"\">\n",
       "<a data-moreurl-dict='{\"from\":\"top-nav-click-music\",\"uid\":\"0\"}' href=\"https://music.douban.com\" target=\"_blank\">��充��</a>\n",
       "</li>\n",
       "<li class=\"\">\n",
       "<a data-moreurl-dict='{\"from\":\"top-nav-click-location\",\"uid\":\"0\"}' href=\"https://www.douban.com/location\" target=\"_blank\">������</a>\n",
       "</li>\n",
       "<li class=\"\">\n",
       "<a data-moreurl-dict='{\"from\":\"top-nav-click-group\",\"uid\":\"0\"}' href=\"https://www.douban.com/group\" target=\"_blank\">灏�缁�</a>\n",
       "</li>\n",
       "<li class=\"\">\n",
       "<a data-moreurl-dict='{\"from\":\"top-nav-click-read\",\"uid\":\"0\"}' href=\"https://read.douban.com/?dcs=top-nav&amp;dcm=douban\" target=\"_blank\">���璇�</a>\n",
       "</li>\n",
       "<li class=\"\">\n",
       "<a data-moreurl-dict='{\"from\":\"top-nav-click-fm\",\"uid\":\"0\"}' href=\"https://douban.fm/?from_=shire_top_nav\" target=\"_blank\">FM</a>\n",
       "</li>\n",
       "<li class=\"\">\n",
       "<a data-moreurl-dict='{\"from\":\"top-nav-click-time\",\"uid\":\"0\"}' href=\"https://time.douban.com/?dt_time_source=douban-web_top_nav\" target=\"_blank\">��堕��</a>\n",
       "</li>\n",
       "<li class=\"\">\n",
       "<a data-moreurl-dict='{\"from\":\"top-nav-click-market\",\"uid\":\"0\"}' href=\"https://market.douban.com/?utm_campaign=douban_top_nav&amp;utm_source=douban&amp;utm_medium=pc_web\" target=\"_blank\">璞����</a>\n",
       "</li>\n",
       "</ul>\n",
       "</div>\n",
       "</div>\n",
       "</div>\n",
       "<script>\n",
       "  ;window._GLOBAL_NAV = {\n",
       "    DOUBAN_URL: \"https://www.douban.com\",\n",
       "    N_NEW_NOTIS: 0,\n",
       "    N_NEW_DOUMAIL: 0\n",
       "  };\n",
       "</script>\n",
       "<script defer=\"defer\" src=\"//img3.doubanio.com/dae/accounts/resources/d3e2921/shire/bundle.js\"></script>\n",
       "<link href=\"//img3.doubanio.com/dae/accounts/resources/d3e2921/movie/bundle.css\" rel=\"stylesheet\" type=\"text/css\"/>\n",
       "<div class=\"nav\" id=\"db-nav-movie\">\n",
       "<div class=\"nav-wrap\">\n",
       "<div class=\"nav-primary\">\n",
       "<div class=\"nav-logo\">\n",
       "<a href=\"https://movie.douban.com\">璞���ｇ�靛奖</a>\n",
       "</div>\n",
       "<div class=\"nav-search\">\n",
       "<form action=\"https://search.douban.com/movie/subject_search\" method=\"get\">\n",
       "<fieldset>\n",
       "<legend>���绱�锛�</legend>\n",
       "<label for=\"inp-query\">\n",
       "</label>\n",
       "<div class=\"inp\"><input id=\"inp-query\" maxlength=\"60\" name=\"search_text\" placeholder=\"���绱㈢�靛奖�����佃����с��缁艰�恒��褰变汉\" size=\"22\" value=\"\"/></div>\n",
       "<div class=\"inp-btn\"><input type=\"submit\" value=\"���绱�\"/></div>\n",
       "<input name=\"cat\" type=\"hidden\" value=\"1002\"/>\n",
       "</fieldset>\n",
       "</form>\n",
       "</div>\n",
       "</div>\n",
       "</div>\n",
       "<div class=\"nav-secondary\">\n",
       "<div class=\"nav-items\">\n",
       "<ul>\n",
       "<li><a href=\"https://movie.douban.com/cinema/nowplaying/\">褰辫��&amp;璐�绁�</a>\n",
       "</li>\n",
       "<li><a href=\"https://movie.douban.com/explore\">�����靛奖</a>\n",
       "</li>\n",
       "<li><a href=\"https://movie.douban.com/tv/\">��佃�����</a>\n",
       "</li>\n",
       "<li><a href=\"https://movie.douban.com/chart\">���琛�姒�</a>\n",
       "</li>\n",
       "<li><a href=\"https://movie.douban.com/tag/\">���绫�</a>\n",
       "</li>\n",
       "<li><a href=\"https://movie.douban.com/review/best/\">褰辫��</a>\n",
       "</li>\n",
       "<li><a href=\"https://movie.douban.com/annual/2020?source=navigation\">2020骞村害姒����</a>\n",
       "</li>\n",
       "<li><a href=\"https://www.douban.com/standbyme/2020?fullscreen=true&amp;hidenav=true&amp;autorotate=false&amp;source=movie_navigation\" target=\"_blank\">2020涔�褰遍�虫�ュ��</a>\n",
       "</li>\n",
       "</ul>\n",
       "</div>\n",
       "<a class=\"movieannual\" href=\"https://movie.douban.com/annual/2020?source=movie_navigation\"></a>\n",
       "</div>\n",
       "</div>\n",
       "<script id=\"suggResult\" type=\"text/x-jquery-tmpl\">\n",
       "  <li data-link=\"{{= url}}\">\n",
       "            <a href=\"{{= url}}\" onclick=\"moreurl(this, {from:'movie_search_sugg', query:'{{= keyword }}', subject_id:'{{= id}}', i: '{{= index}}', type: '{{= type}}'})\">\n",
       "            <img src=\"{{= img}}\" width=\"40\" />\n",
       "            <p>\n",
       "                <em>{{= title}}</em>\n",
       "                {{if year}}\n",
       "                    <span>{{= year}}</span>\n",
       "                {{/if}}\n",
       "                {{if sub_title}}\n",
       "                    <br /><span>{{= sub_title}}</span>\n",
       "                {{/if}}\n",
       "                {{if address}}\n",
       "                    <br /><span>{{= address}}</span>\n",
       "                {{/if}}\n",
       "                {{if episode}}\n",
       "                    {{if episode==\"unknow\"}}\n",
       "                        <br /><span>�����版�����</span>\n",
       "                    {{else}}\n",
       "                        <br /><span>���{{= episode}}���</span>\n",
       "                    {{/if}}\n",
       "                {{/if}}\n",
       "            </p>\n",
       "        </a>\n",
       "        </li>\n",
       "  </script>\n",
       "<script defer=\"defer\" src=\"//img3.doubanio.com/dae/accounts/resources/d3e2921/movie/bundle.js\"></script>\n",
       "<div id=\"wrapper\">\n",
       "<div id=\"content\">\n",
       "<h1>���褰辫��</h1>\n",
       "<div class=\"grid-16-8 clearfix\">\n",
       "<div class=\"article\">\n",
       "<div class=\"article\" id=\"app\"></div>\n",
       "</div>\n",
       "<div class=\"aside\">\n",
       "<!-- douban ad begin -->\n",
       "<div id=\"dale_movie_tags_top_right\"></div>\n",
       "<!-- douban ad end -->\n",
       "<!-- douban ad begin -->\n",
       "<div class=\"mobile-app-entrance block5 app-movie\">\n",
       "<a class=\"entrance-link\" href=\"https://www.douban.com/doubanapp/frodo\">\n",
       "<div class=\"entrance-qrcode\">\n",
       "<img alt=\"������涓�杞借����� App\" height=\"80\" src=\"https://img9.doubanio.com/f/movie/a02f6ed325fc52e220f299d51e730c422e2bcd16/pics/movie/douban_app_ad/qrcode.png\" width=\"80\"/>\n",
       "</div>\n",
       "<div class=\"entrance-info\">\n",
       "<span class=\"app-icon icon-movie\"></span>\n",
       "<span class=\"main-title\">璞����</span>\n",
       "<span class=\"sub-title\">浣������ｅ�虫����ラ��</span>\n",
       "</div>\n",
       "</a>\n",
       "</div>\n",
       "<!-- douban ad end -->\n",
       "</div>\n",
       "<div class=\"extra\">\n",
       "<!-- douban ad begin -->\n",
       "<div id=\"dale_movie_tag_bottom_banner\"></div>\n",
       "<!-- douban ad end -->\n",
       "</div>\n",
       "</div>\n",
       "</div>\n",
       "<div id=\"footer\">\n",
       "<div class=\"footer-extra\"></div>\n",
       "<span class=\"fleft gray-link\" id=\"icp\">\n",
       "    © 2005锛�2021 douban.com, all rights reserved ���浜�璞�缃�绉����������������\n",
       "</span>\n",
       "<a href=\"https://www.douban.com/hnypt/variformcyst.py\" style=\"display: none;\"></a>\n",
       "<span class=\"fright\">\n",
       "<a href=\"https://www.douban.com/about\">��充��璞����</a>\n",
       "    路 <a href=\"https://www.douban.com/jobs\">��ㄨ����ｅ伐浣�</a>\n",
       "    路 <a href=\"https://www.douban.com/about?topic=contactus\">���绯绘��浠�</a>\n",
       "    路 <a href=\"https://www.douban.com/about/legal\">娉�寰�澹版��</a>\n",
       "    \n",
       "    路 <a href=\"https://help.douban.com/?app=movie\" target=\"_blank\">甯���╀腑蹇�</a>\n",
       "    路 <a href=\"https://www.douban.com/doubanapp/\">绉诲�ㄥ�����</a>\n",
       "    路 <a href=\"https://www.douban.com/partner/\">璞���ｅ箍���</a>\n",
       "</span>\n",
       "</div>\n",
       "</div>\n",
       "<!-- COLLECTED JS -->\n",
       "<link href=\"https://img9.doubanio.com/f/shire/8377b9498330a2e6f056d863987cc7a37eb4d486/css/ui/dialog.css\" rel=\"stylesheet\" type=\"text/css\"/>\n",
       "<link href=\"https://img9.doubanio.com/f/movie/4aca95d66d37ec0712b3d19973b5d8feb75f2f05/css/movie/mod/reg_login_pop.css\" rel=\"stylesheet\" type=\"text/css\"/>\n",
       "<script data-cfg-autoload=\"false\" src=\"https://img9.doubanio.com/f/shire/2c0c1c6b83f9a457b0f38c38a32fc43a42ec9bad/js/do.js\" type=\"text/javascript\"></script>\n",
       "<script src=\"https://img9.doubanio.com/f/shire/bc881a837a728ab82aa01d653b1c180190bb5a5d/js/ui/dialog.js\" type=\"text/javascript\"></script>\n",
       "<script type=\"text/javascript\">\n",
       "        var HTTPS_DB='https://www.douban.com';\n",
       "var account_pop={open:function(o,e){e?referrer=\"?referrer=\"+encodeURIComponent(e):referrer=\"?referrer=\"+window.location.href;var n=\"\",i=\"\",t=448;n=\"��ㄦ�风�诲��\",i=\"https://accounts.douban.com/passport/login_popup?source=movie\";var r=document.location.protocol+\"//\"+document.location.hostname,a=dui.Dialog({width:340,title:n,height:t,cls:\"account_pop\",isHideTitle:!0,modal:!0,content:\"<iframe scrolling='no' frameborder='0' width='340' height='\"+t+\"' src='\"+i+\"' name='\"+r+\"'></iframe>\"},!0),c=a.node;if(c.undelegate(),c.delegate(\".dui-dialog-close\",\"click\",function(){var o=$(\"body\");o.find(\"#login_msk\").hide(),o.find(\".account_pop\").remove()}),$(window).width()<478){var d=\"\";\"reg\"===o?d=HTTPS_DB+\"/accounts/register\"+referrer:\"login\"===o&&(d=HTTPS_DB+\"/accounts/login\"+referrer),window.location.href=d}else a.open();$(window).bind(\"message\",function(o){\"https://accounts.douban.com\"===o.originalEvent.origin&&(c.find(\"iframe\").css(\"height\",o.originalEvent.data),c.height(o.originalEvent.data),a.update())})}};Douban&&Douban.init_show_login&&(Douban.init_show_login=function(o){var e=$(o);e.click(function(){var o=e.data(\"ref\")||\"\";return account_pop.open(\"login\",o),!1})}),Do(function(){$(\"body\").delegate(\".pop_register\",\"click\",function(o){o.preventDefault();var e=$(this).data(\"ref\")||\"\";return account_pop.open(\"reg\",e),!1}),$(\"body\").delegate(\".pop_login\",\"click\",function(o){o.preventDefault();var e=$(this).data(\"ref\")||\"\";return account_pop.open(\"login\",e),!1})});\n",
       "    </script>\n",
       "<script src=\"https://img9.doubanio.com/f/movie/bd98c7a55ab53a3b3b4f289abeca4ca895e613dd/js/movie/explore/manifest.js\" type=\"text/javascript\"></script>\n",
       "<script src=\"https://img9.doubanio.com/f/movie/5b40e739d432c9b35eadabeae2cfc06e30a850ae/js/movie/explore/vendor.js\" type=\"text/javascript\"></script>\n",
       "<script src=\"https://img9.doubanio.com/f/movie/5d09a45ddb4f8cf44462554fe1519f423dd78467/js/movie/explore/app.js\" type=\"text/javascript\"></script>\n",
       "<!-- douban ad begin -->\n",
       "<script type=\"text/javascript\">\n",
       "    (function (global) {\n",
       "        var newNode = global.document.createElement('script'),\n",
       "            existingNode = global.document.getElementsByTagName('script')[0],\n",
       "            adSource = '//erebor.douban.com/',\n",
       "            userId = '',\n",
       "            browserId = 'BX6nTOv-_yc',\n",
       "            criteria = '3:/tag/',\n",
       "            preview = '',\n",
       "            debug = false,\n",
       "            adSlots = ['dale_movie_tags_top_right', 'dale_movie_tag_bottom_banner'];\n",
       "\n",
       "        global.DoubanAdRequest = {src: adSource, uid: userId, bid: browserId, crtr: criteria, prv: preview, debug: debug};\n",
       "        global.DoubanAdSlots = (global.DoubanAdSlots || []).concat(adSlots);\n",
       "\n",
       "        newNode.setAttribute('type', 'text/javascript');\n",
       "        newNode.setAttribute('src', '//img1.doubanio.com/MnJwNGlleS9mL2FkanMvY2M1OGQyNTQ2N2I2YmQzOTlmNTliMGJiMjI4MWRhZTlkNTNjYTFkZC9hZC5yZWxlYXNlLmpz');\n",
       "        newNode.setAttribute('async', true);\n",
       "        existingNode.parentNode.insertBefore(newNode, existingNode);\n",
       "    })(this);\n",
       "</script>\n",
       "<!-- douban ad end -->\n",
       "<script>\n",
       "      $(function(){\n",
       "        var tag_lis = $('.tags li');\n",
       "        if (tag_lis.length > 74) {\n",
       "          for (var i=73; i<tag_lis.length-1; i++) {\n",
       "            $(tag_lis[i]).hide();\n",
       "          }\n",
       "        }\n",
       "      })\n",
       "    </script>\n",
       "<script type=\"text/javascript\">\n",
       "var _paq = _paq || [];\n",
       "_paq.push(['trackPageView']);\n",
       "_paq.push(['enableLinkTracking']);\n",
       "(function() {\n",
       "    var p=(('https:' == document.location.protocol) ? 'https' : 'http'), u=p+'://fundin.douban.com/';\n",
       "    _paq.push(['setTrackerUrl', u+'piwik']);\n",
       "    _paq.push(['setSiteId', '100001']);\n",
       "    var d=document, g=d.createElement('script'), s=d.getElementsByTagName('script')[0];\n",
       "    g.type='text/javascript';\n",
       "    g.defer=true;\n",
       "    g.async=true;\n",
       "    g.src=p+'://img3.doubanio.com/dae/fundin/piwik.js';\n",
       "    s.parentNode.insertBefore(g,s);\n",
       "})();\n",
       "</script>\n",
       "<script type=\"text/javascript\">\n",
       "var setMethodWithNs = function(namespace) {\n",
       "  var ns = namespace ? namespace + '.' : ''\n",
       "    , fn = function(string) {\n",
       "        if(!ns) {return string}\n",
       "        return ns + string\n",
       "      }\n",
       "  return fn\n",
       "}\n",
       "\n",
       "var gaWithNamespace = function(fn, namespace) {\n",
       "  var method = setMethodWithNs(namespace)\n",
       "  fn.call(this, method)\n",
       "}\n",
       "\n",
       "var _gaq = _gaq || []\n",
       "  , accounts = [\n",
       "      { id: 'UA-7019765-1', namespace: 'douban' }\n",
       "    , { id: 'UA-7019765-19', namespace: '' }\n",
       "    ]\n",
       "  , gaInit = function(account) {\n",
       "      gaWithNamespace(function(method) {\n",
       "        gaInitFn.call(this, method, account)\n",
       "      }, account.namespace)\n",
       "    }\n",
       "  , gaInitFn = function(method, account) {\n",
       "      _gaq.push([method('_setAccount'), account.id]);\n",
       "      _gaq.push([method('_setSampleRate'), '5']);\n",
       "\n",
       "      \n",
       "  _gaq.push([method('_addOrganic'), 'google', 'q'])\n",
       "  _gaq.push([method('_addOrganic'), 'baidu', 'wd'])\n",
       "  _gaq.push([method('_addOrganic'), 'soso', 'w'])\n",
       "  _gaq.push([method('_addOrganic'), 'youdao', 'q'])\n",
       "  _gaq.push([method('_addOrganic'), 'so.360.cn', 'q'])\n",
       "  _gaq.push([method('_addOrganic'), 'sogou', 'query'])\n",
       "  if (account.namespace) {\n",
       "    _gaq.push([method('_addIgnoredOrganic'), '璞����'])\n",
       "    _gaq.push([method('_addIgnoredOrganic'), 'douban'])\n",
       "    _gaq.push([method('_addIgnoredOrganic'), '璞���ｇ��'])\n",
       "    _gaq.push([method('_addIgnoredOrganic'), 'www.douban.com'])\n",
       "  }\n",
       "\n",
       "      if (account.namespace === 'douban') {\n",
       "        _gaq.push([method('_setDomainName'), '.douban.com'])\n",
       "      }\n",
       "\n",
       "        _gaq.push([method('_setCustomVar'), 1, 'responsive_view_mode', 'desktop', 3])\n",
       "\n",
       "        _gaq.push([method('_setCustomVar'), 2, 'login_status', '0', 2]);\n",
       "\n",
       "      _gaq.push([method('_trackPageview')])\n",
       "    }\n",
       "\n",
       "for(var i = 0, l = accounts.length; i < l; i++) {\n",
       "  var account = accounts[i]\n",
       "  gaInit(account)\n",
       "}\n",
       "\n",
       "\n",
       ";(function() {\n",
       "    var ga = document.createElement('script');\n",
       "    ga.src = ('https:' == document.location.protocol ? 'https://ssl' : 'http://www') + '.google-analytics.com/ga.js';\n",
       "    ga.setAttribute('async', 'true');\n",
       "    document.documentElement.firstChild.appendChild(ga);\n",
       "})()\n",
       "</script>\n",
       "<!-- dae-web-movie--default-d54cd9c5-fbp6v-->\n",
       "<script>_SPLITTEST=''</script>\n",
       "</body>\n",
       "</html>"
      ]
     },
     "execution_count": 59,
     "metadata": {},
     "output_type": "execute_result"
    }
   ],
   "source": [
    "soup = BeautifulSoup(r.text, \"lxml\")\n",
    "soup"
   ]
  },
  {
   "cell_type": "code",
   "execution_count": 2,
   "metadata": {},
   "outputs": [
    {
     "ename": "TimeoutError",
     "evalue": "Navigation Timeout Exceeded: 8000 ms exceeded.",
     "output_type": "error",
     "traceback": [
      "\u001b[0;31m---------------------------------------------------------------------------\u001b[0m",
      "\u001b[0;31mTimeoutError\u001b[0m                              Traceback (most recent call last)",
      "\u001b[0;32m/var/folders/q9/0yjtkz2x1mq4f7qlvql797l80000gn/T/ipykernel_2686/3768160297.py\u001b[0m in \u001b[0;36m<module>\u001b[0;34m\u001b[0m\n\u001b[1;32m      5\u001b[0m \u001b[0;31m# 发送网路请求\u001b[0m\u001b[0;34m\u001b[0m\u001b[0;34m\u001b[0m\u001b[0;34m\u001b[0m\u001b[0m\n\u001b[1;32m      6\u001b[0m \u001b[0mr\u001b[0m \u001b[0;34m=\u001b[0m \u001b[0;32mawait\u001b[0m \u001b[0masession\u001b[0m\u001b[0;34m.\u001b[0m\u001b[0mget\u001b[0m\u001b[0;34m(\u001b[0m\u001b[0;34m'https://edition.cnn.com/search?q=apple'\u001b[0m\u001b[0;34m)\u001b[0m\u001b[0;34m\u001b[0m\u001b[0;34m\u001b[0m\u001b[0m\n\u001b[0;32m----> 7\u001b[0;31m \u001b[0;32mawait\u001b[0m \u001b[0mr\u001b[0m\u001b[0;34m.\u001b[0m\u001b[0mhtml\u001b[0m\u001b[0;34m.\u001b[0m\u001b[0marender\u001b[0m\u001b[0;34m(\u001b[0m\u001b[0;34m)\u001b[0m\u001b[0;34m\u001b[0m\u001b[0;34m\u001b[0m\u001b[0m\n\u001b[0m",
      "\u001b[0;32m~/Desktop/读书会/.venv_38/lib/python3.8/site-packages/requests_html.py\u001b[0m in \u001b[0;36marender\u001b[0;34m(self, retries, script, wait, scrolldown, sleep, reload, timeout, keep_page)\u001b[0m\n\u001b[1;32m    624\u001b[0m                 \u001b[0;32mtry\u001b[0m\u001b[0;34m:\u001b[0m\u001b[0;34m\u001b[0m\u001b[0;34m\u001b[0m\u001b[0m\n\u001b[1;32m    625\u001b[0m \u001b[0;34m\u001b[0m\u001b[0m\n\u001b[0;32m--> 626\u001b[0;31m                     \u001b[0mcontent\u001b[0m\u001b[0;34m,\u001b[0m \u001b[0mresult\u001b[0m\u001b[0;34m,\u001b[0m \u001b[0mpage\u001b[0m \u001b[0;34m=\u001b[0m \u001b[0;32mawait\u001b[0m \u001b[0mself\u001b[0m\u001b[0;34m.\u001b[0m\u001b[0m_async_render\u001b[0m\u001b[0;34m(\u001b[0m\u001b[0murl\u001b[0m\u001b[0;34m=\u001b[0m\u001b[0mself\u001b[0m\u001b[0;34m.\u001b[0m\u001b[0murl\u001b[0m\u001b[0;34m,\u001b[0m \u001b[0mscript\u001b[0m\u001b[0;34m=\u001b[0m\u001b[0mscript\u001b[0m\u001b[0;34m,\u001b[0m \u001b[0msleep\u001b[0m\u001b[0;34m=\u001b[0m\u001b[0msleep\u001b[0m\u001b[0;34m,\u001b[0m \u001b[0mwait\u001b[0m\u001b[0;34m=\u001b[0m\u001b[0mwait\u001b[0m\u001b[0;34m,\u001b[0m \u001b[0mcontent\u001b[0m\u001b[0;34m=\u001b[0m\u001b[0mself\u001b[0m\u001b[0;34m.\u001b[0m\u001b[0mhtml\u001b[0m\u001b[0;34m,\u001b[0m \u001b[0mreload\u001b[0m\u001b[0;34m=\u001b[0m\u001b[0mreload\u001b[0m\u001b[0;34m,\u001b[0m \u001b[0mscrolldown\u001b[0m\u001b[0;34m=\u001b[0m\u001b[0mscrolldown\u001b[0m\u001b[0;34m,\u001b[0m \u001b[0mtimeout\u001b[0m\u001b[0;34m=\u001b[0m\u001b[0mtimeout\u001b[0m\u001b[0;34m,\u001b[0m \u001b[0mkeep_page\u001b[0m\u001b[0;34m=\u001b[0m\u001b[0mkeep_page\u001b[0m\u001b[0;34m)\u001b[0m\u001b[0;34m\u001b[0m\u001b[0;34m\u001b[0m\u001b[0m\n\u001b[0m\u001b[1;32m    627\u001b[0m                 \u001b[0;32mexcept\u001b[0m \u001b[0mTypeError\u001b[0m\u001b[0;34m:\u001b[0m\u001b[0;34m\u001b[0m\u001b[0;34m\u001b[0m\u001b[0m\n\u001b[1;32m    628\u001b[0m                     \u001b[0;32mpass\u001b[0m\u001b[0;34m\u001b[0m\u001b[0;34m\u001b[0m\u001b[0m\n",
      "\u001b[0;32m~/Desktop/读书会/.venv_38/lib/python3.8/site-packages/requests_html.py\u001b[0m in \u001b[0;36m_async_render\u001b[0;34m(self, url, script, scrolldown, sleep, wait, reload, content, timeout, keep_page)\u001b[0m\n\u001b[1;32m    510\u001b[0m             \u001b[0;31m# Load the given page (GET request, obviously.)\u001b[0m\u001b[0;34m\u001b[0m\u001b[0;34m\u001b[0m\u001b[0;34m\u001b[0m\u001b[0m\n\u001b[1;32m    511\u001b[0m             \u001b[0;32mif\u001b[0m \u001b[0mreload\u001b[0m\u001b[0;34m:\u001b[0m\u001b[0;34m\u001b[0m\u001b[0;34m\u001b[0m\u001b[0m\n\u001b[0;32m--> 512\u001b[0;31m                 \u001b[0;32mawait\u001b[0m \u001b[0mpage\u001b[0m\u001b[0;34m.\u001b[0m\u001b[0mgoto\u001b[0m\u001b[0;34m(\u001b[0m\u001b[0murl\u001b[0m\u001b[0;34m,\u001b[0m \u001b[0moptions\u001b[0m\u001b[0;34m=\u001b[0m\u001b[0;34m{\u001b[0m\u001b[0;34m'timeout'\u001b[0m\u001b[0;34m:\u001b[0m \u001b[0mint\u001b[0m\u001b[0;34m(\u001b[0m\u001b[0mtimeout\u001b[0m \u001b[0;34m*\u001b[0m \u001b[0;36m1000\u001b[0m\u001b[0;34m)\u001b[0m\u001b[0;34m}\u001b[0m\u001b[0;34m)\u001b[0m\u001b[0;34m\u001b[0m\u001b[0;34m\u001b[0m\u001b[0m\n\u001b[0m\u001b[1;32m    513\u001b[0m             \u001b[0;32melse\u001b[0m\u001b[0;34m:\u001b[0m\u001b[0;34m\u001b[0m\u001b[0;34m\u001b[0m\u001b[0m\n\u001b[1;32m    514\u001b[0m                 \u001b[0;32mawait\u001b[0m \u001b[0mpage\u001b[0m\u001b[0;34m.\u001b[0m\u001b[0mgoto\u001b[0m\u001b[0;34m(\u001b[0m\u001b[0;34mf'data:text/html,{self.html}'\u001b[0m\u001b[0;34m,\u001b[0m \u001b[0moptions\u001b[0m\u001b[0;34m=\u001b[0m\u001b[0;34m{\u001b[0m\u001b[0;34m'timeout'\u001b[0m\u001b[0;34m:\u001b[0m \u001b[0mint\u001b[0m\u001b[0;34m(\u001b[0m\u001b[0mtimeout\u001b[0m \u001b[0;34m*\u001b[0m \u001b[0;36m1000\u001b[0m\u001b[0;34m)\u001b[0m\u001b[0;34m}\u001b[0m\u001b[0;34m)\u001b[0m\u001b[0;34m\u001b[0m\u001b[0;34m\u001b[0m\u001b[0m\n",
      "\u001b[0;32m~/Desktop/读书会/.venv_38/lib/python3.8/site-packages/pyppeteer/page.py\u001b[0m in \u001b[0;36mgoto\u001b[0;34m(self, url, options, **kwargs)\u001b[0m\n\u001b[1;32m    883\u001b[0m         \u001b[0merror\u001b[0m \u001b[0;34m=\u001b[0m \u001b[0mresult\u001b[0m\u001b[0;34m[\u001b[0m\u001b[0;36m0\u001b[0m\u001b[0;34m]\u001b[0m\u001b[0;34m.\u001b[0m\u001b[0mpop\u001b[0m\u001b[0;34m(\u001b[0m\u001b[0;34m)\u001b[0m\u001b[0;34m.\u001b[0m\u001b[0mexception\u001b[0m\u001b[0;34m(\u001b[0m\u001b[0;34m)\u001b[0m  \u001b[0;31m# type: ignore\u001b[0m\u001b[0;34m\u001b[0m\u001b[0;34m\u001b[0m\u001b[0m\n\u001b[1;32m    884\u001b[0m         \u001b[0;32mif\u001b[0m \u001b[0merror\u001b[0m\u001b[0;34m:\u001b[0m\u001b[0;34m\u001b[0m\u001b[0;34m\u001b[0m\u001b[0m\n\u001b[0;32m--> 885\u001b[0;31m             \u001b[0;32mraise\u001b[0m \u001b[0merror\u001b[0m\u001b[0;34m\u001b[0m\u001b[0;34m\u001b[0m\u001b[0m\n\u001b[0m\u001b[1;32m    886\u001b[0m \u001b[0;34m\u001b[0m\u001b[0m\n\u001b[1;32m    887\u001b[0m         \u001b[0mrequest\u001b[0m \u001b[0;34m=\u001b[0m \u001b[0mrequests\u001b[0m\u001b[0;34m.\u001b[0m\u001b[0mget\u001b[0m\u001b[0;34m(\u001b[0m\u001b[0mmainFrame\u001b[0m\u001b[0;34m.\u001b[0m\u001b[0m_navigationURL\u001b[0m\u001b[0;34m)\u001b[0m\u001b[0;34m\u001b[0m\u001b[0;34m\u001b[0m\u001b[0m\n",
      "\u001b[0;31mTimeoutError\u001b[0m: Navigation Timeout Exceeded: 8000 ms exceeded."
     ]
    }
   ],
   "source": [
    "from bs4 import BeautifulSoup\n",
    "from requests_html import AsyncHTMLSession\n",
    "#session = HTMLSession()          # 创建HTML会话对象\n",
    "asession = AsyncHTMLSession()\n",
    "# 发送网路请求\n",
    "r = await asession.get('https://edition.cnn.com/search?q=apple')\n",
    "await r.html.arender()"
   ]
  },
  {
   "cell_type": "code",
   "execution_count": null,
   "metadata": {},
   "outputs": [],
   "source": []
  }
 ],
 "metadata": {
  "interpreter": {
   "hash": "cee0b0cd69ec24a570387e848ecf9c0b05d3b978254e549cb33f9888ca986b96"
  },
  "kernelspec": {
   "display_name": "Python 3.8.2 64-bit ('.venv_38': venv)",
   "name": "python3"
  },
  "language_info": {
   "codemirror_mode": {
    "name": "ipython",
    "version": 3
   },
   "file_extension": ".py",
   "mimetype": "text/x-python",
   "name": "python",
   "nbconvert_exporter": "python",
   "pygments_lexer": "ipython3",
   "version": "3.8.2"
  },
  "orig_nbformat": 4
 },
 "nbformat": 4,
 "nbformat_minor": 2
}
