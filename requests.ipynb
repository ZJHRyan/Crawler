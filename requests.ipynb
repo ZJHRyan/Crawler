{
 "cells": [
  {
   "cell_type": "code",
   "execution_count": 2,
   "metadata": {},
   "outputs": [],
   "source": [
    "# chapter 5 & 6"
   ]
  },
  {
   "cell_type": "markdown",
   "metadata": {},
   "source": [
    "## 5.1请求方式"
   ]
  },
  {
   "cell_type": "markdown",
   "metadata": {},
   "source": [
    "### 5.1.1GET请求"
   ]
  },
  {
   "cell_type": "code",
   "execution_count": 3,
   "metadata": {},
   "outputs": [],
   "source": [
    "import requests    # 导入网络请求模块requests\n",
    "import json\n",
    "from lxml import etree  # 导入lxml模块\n",
    "# 导入requests.exceptions模块中的三种异常类\n",
    "from requests.exceptions import ReadTimeout,HTTPError,RequestException\n",
    "import pandas as pd  # 导入pandas模块"
   ]
  },
  {
   "cell_type": "code",
   "execution_count": 4,
   "metadata": {},
   "outputs": [],
   "source": [
    "import requests_cache\n",
    "import time\n",
    "from requests_html import HTMLSession,UserAgent    # 导入HTMLSession类\n",
    "from requests_html import AsyncHTMLSession\n",
    "import urllib3\n",
    "import re"
   ]
  },
  {
   "cell_type": "code",
   "execution_count": 5,
   "metadata": {},
   "outputs": [
    {
     "ename": "KeyboardInterrupt",
     "evalue": "",
     "output_type": "error",
     "traceback": [
      "\u001b[0;31m---------------------------------------------------------------------------\u001b[0m",
      "\u001b[0;31mKeyboardInterrupt\u001b[0m                         Traceback (most recent call last)",
      "\u001b[0;32m/var/folders/q9/0yjtkz2x1mq4f7qlvql797l80000gn/T/ipykernel_19221/283117568.py\u001b[0m in \u001b[0;36m<module>\u001b[0;34m\u001b[0m\n\u001b[1;32m      2\u001b[0m \u001b[0;31m#HTTP中的GET，POST，PUT，DELETE就对应着对这个资源的 查，改，增，删 4个操作\u001b[0m\u001b[0;34m\u001b[0m\u001b[0;34m\u001b[0m\u001b[0;34m\u001b[0m\u001b[0m\n\u001b[1;32m      3\u001b[0m \u001b[0;34m\u001b[0m\u001b[0m\n\u001b[0;32m----> 4\u001b[0;31m \u001b[0mresponse\u001b[0m \u001b[0;34m=\u001b[0m \u001b[0mrequests\u001b[0m\u001b[0;34m.\u001b[0m\u001b[0mget\u001b[0m\u001b[0;34m(\u001b[0m\u001b[0;34m'https://www.baidu.com'\u001b[0m\u001b[0;34m)\u001b[0m\u001b[0;34m\u001b[0m\u001b[0;34m\u001b[0m\u001b[0m\n\u001b[0m\u001b[1;32m      5\u001b[0m \u001b[0mprint\u001b[0m\u001b[0;34m(\u001b[0m\u001b[0;34m'响应状态码为：'\u001b[0m\u001b[0;34m,\u001b[0m\u001b[0mresponse\u001b[0m\u001b[0;34m.\u001b[0m\u001b[0mstatus_code\u001b[0m\u001b[0;34m)\u001b[0m  \u001b[0;31m# 打印状态码\u001b[0m\u001b[0;34m\u001b[0m\u001b[0;34m\u001b[0m\u001b[0m\n\u001b[1;32m      6\u001b[0m \u001b[0mprint\u001b[0m\u001b[0;34m(\u001b[0m\u001b[0;34m'请求的网络地址为：'\u001b[0m\u001b[0;34m,\u001b[0m\u001b[0mresponse\u001b[0m\u001b[0;34m.\u001b[0m\u001b[0murl\u001b[0m\u001b[0;34m)\u001b[0m          \u001b[0;31m# 打印请求url\u001b[0m\u001b[0;34m\u001b[0m\u001b[0;34m\u001b[0m\u001b[0m\n",
      "\u001b[0;32m~/Desktop/读书会/.vnev_39/lib/python3.9/site-packages/requests/api.py\u001b[0m in \u001b[0;36mget\u001b[0;34m(url, params, **kwargs)\u001b[0m\n\u001b[1;32m     73\u001b[0m     \"\"\"\n\u001b[1;32m     74\u001b[0m \u001b[0;34m\u001b[0m\u001b[0m\n\u001b[0;32m---> 75\u001b[0;31m     \u001b[0;32mreturn\u001b[0m \u001b[0mrequest\u001b[0m\u001b[0;34m(\u001b[0m\u001b[0;34m'get'\u001b[0m\u001b[0;34m,\u001b[0m \u001b[0murl\u001b[0m\u001b[0;34m,\u001b[0m \u001b[0mparams\u001b[0m\u001b[0;34m=\u001b[0m\u001b[0mparams\u001b[0m\u001b[0;34m,\u001b[0m \u001b[0;34m**\u001b[0m\u001b[0mkwargs\u001b[0m\u001b[0;34m)\u001b[0m\u001b[0;34m\u001b[0m\u001b[0;34m\u001b[0m\u001b[0m\n\u001b[0m\u001b[1;32m     76\u001b[0m \u001b[0;34m\u001b[0m\u001b[0m\n\u001b[1;32m     77\u001b[0m \u001b[0;34m\u001b[0m\u001b[0m\n",
      "\u001b[0;32m~/Desktop/读书会/.vnev_39/lib/python3.9/site-packages/requests/api.py\u001b[0m in \u001b[0;36mrequest\u001b[0;34m(method, url, **kwargs)\u001b[0m\n\u001b[1;32m     59\u001b[0m     \u001b[0;31m# cases, and look like a memory leak in others.\u001b[0m\u001b[0;34m\u001b[0m\u001b[0;34m\u001b[0m\u001b[0;34m\u001b[0m\u001b[0m\n\u001b[1;32m     60\u001b[0m     \u001b[0;32mwith\u001b[0m \u001b[0msessions\u001b[0m\u001b[0;34m.\u001b[0m\u001b[0mSession\u001b[0m\u001b[0;34m(\u001b[0m\u001b[0;34m)\u001b[0m \u001b[0;32mas\u001b[0m \u001b[0msession\u001b[0m\u001b[0;34m:\u001b[0m\u001b[0;34m\u001b[0m\u001b[0;34m\u001b[0m\u001b[0m\n\u001b[0;32m---> 61\u001b[0;31m         \u001b[0;32mreturn\u001b[0m \u001b[0msession\u001b[0m\u001b[0;34m.\u001b[0m\u001b[0mrequest\u001b[0m\u001b[0;34m(\u001b[0m\u001b[0mmethod\u001b[0m\u001b[0;34m=\u001b[0m\u001b[0mmethod\u001b[0m\u001b[0;34m,\u001b[0m \u001b[0murl\u001b[0m\u001b[0;34m=\u001b[0m\u001b[0murl\u001b[0m\u001b[0;34m,\u001b[0m \u001b[0;34m**\u001b[0m\u001b[0mkwargs\u001b[0m\u001b[0;34m)\u001b[0m\u001b[0;34m\u001b[0m\u001b[0;34m\u001b[0m\u001b[0m\n\u001b[0m\u001b[1;32m     62\u001b[0m \u001b[0;34m\u001b[0m\u001b[0m\n\u001b[1;32m     63\u001b[0m \u001b[0;34m\u001b[0m\u001b[0m\n",
      "\u001b[0;32m~/Desktop/读书会/.vnev_39/lib/python3.9/site-packages/requests/sessions.py\u001b[0m in \u001b[0;36mrequest\u001b[0;34m(self, method, url, params, data, headers, cookies, files, auth, timeout, allow_redirects, proxies, hooks, stream, verify, cert, json)\u001b[0m\n\u001b[1;32m    540\u001b[0m         }\n\u001b[1;32m    541\u001b[0m         \u001b[0msend_kwargs\u001b[0m\u001b[0;34m.\u001b[0m\u001b[0mupdate\u001b[0m\u001b[0;34m(\u001b[0m\u001b[0msettings\u001b[0m\u001b[0;34m)\u001b[0m\u001b[0;34m\u001b[0m\u001b[0;34m\u001b[0m\u001b[0m\n\u001b[0;32m--> 542\u001b[0;31m         \u001b[0mresp\u001b[0m \u001b[0;34m=\u001b[0m \u001b[0mself\u001b[0m\u001b[0;34m.\u001b[0m\u001b[0msend\u001b[0m\u001b[0;34m(\u001b[0m\u001b[0mprep\u001b[0m\u001b[0;34m,\u001b[0m \u001b[0;34m**\u001b[0m\u001b[0msend_kwargs\u001b[0m\u001b[0;34m)\u001b[0m\u001b[0;34m\u001b[0m\u001b[0;34m\u001b[0m\u001b[0m\n\u001b[0m\u001b[1;32m    543\u001b[0m \u001b[0;34m\u001b[0m\u001b[0m\n\u001b[1;32m    544\u001b[0m         \u001b[0;32mreturn\u001b[0m \u001b[0mresp\u001b[0m\u001b[0;34m\u001b[0m\u001b[0;34m\u001b[0m\u001b[0m\n",
      "\u001b[0;32m~/Desktop/读书会/.vnev_39/lib/python3.9/site-packages/requests/sessions.py\u001b[0m in \u001b[0;36msend\u001b[0;34m(self, request, **kwargs)\u001b[0m\n\u001b[1;32m    653\u001b[0m \u001b[0;34m\u001b[0m\u001b[0m\n\u001b[1;32m    654\u001b[0m         \u001b[0;31m# Send the request\u001b[0m\u001b[0;34m\u001b[0m\u001b[0;34m\u001b[0m\u001b[0;34m\u001b[0m\u001b[0m\n\u001b[0;32m--> 655\u001b[0;31m         \u001b[0mr\u001b[0m \u001b[0;34m=\u001b[0m \u001b[0madapter\u001b[0m\u001b[0;34m.\u001b[0m\u001b[0msend\u001b[0m\u001b[0;34m(\u001b[0m\u001b[0mrequest\u001b[0m\u001b[0;34m,\u001b[0m \u001b[0;34m**\u001b[0m\u001b[0mkwargs\u001b[0m\u001b[0;34m)\u001b[0m\u001b[0;34m\u001b[0m\u001b[0;34m\u001b[0m\u001b[0m\n\u001b[0m\u001b[1;32m    656\u001b[0m \u001b[0;34m\u001b[0m\u001b[0m\n\u001b[1;32m    657\u001b[0m         \u001b[0;31m# Total elapsed time of the request (approximately)\u001b[0m\u001b[0;34m\u001b[0m\u001b[0;34m\u001b[0m\u001b[0;34m\u001b[0m\u001b[0m\n",
      "\u001b[0;32m~/Desktop/读书会/.vnev_39/lib/python3.9/site-packages/requests/adapters.py\u001b[0m in \u001b[0;36msend\u001b[0;34m(self, request, stream, timeout, verify, cert, proxies)\u001b[0m\n\u001b[1;32m    437\u001b[0m         \u001b[0;32mtry\u001b[0m\u001b[0;34m:\u001b[0m\u001b[0;34m\u001b[0m\u001b[0;34m\u001b[0m\u001b[0m\n\u001b[1;32m    438\u001b[0m             \u001b[0;32mif\u001b[0m \u001b[0;32mnot\u001b[0m \u001b[0mchunked\u001b[0m\u001b[0;34m:\u001b[0m\u001b[0;34m\u001b[0m\u001b[0;34m\u001b[0m\u001b[0m\n\u001b[0;32m--> 439\u001b[0;31m                 resp = conn.urlopen(\n\u001b[0m\u001b[1;32m    440\u001b[0m                     \u001b[0mmethod\u001b[0m\u001b[0;34m=\u001b[0m\u001b[0mrequest\u001b[0m\u001b[0;34m.\u001b[0m\u001b[0mmethod\u001b[0m\u001b[0;34m,\u001b[0m\u001b[0;34m\u001b[0m\u001b[0;34m\u001b[0m\u001b[0m\n\u001b[1;32m    441\u001b[0m                     \u001b[0murl\u001b[0m\u001b[0;34m=\u001b[0m\u001b[0murl\u001b[0m\u001b[0;34m,\u001b[0m\u001b[0;34m\u001b[0m\u001b[0;34m\u001b[0m\u001b[0m\n",
      "\u001b[0;32m~/Desktop/读书会/.vnev_39/lib/python3.9/site-packages/urllib3/connectionpool.py\u001b[0m in \u001b[0;36murlopen\u001b[0;34m(self, method, url, body, headers, retries, redirect, assert_same_host, timeout, pool_timeout, release_conn, chunked, body_pos, **response_kw)\u001b[0m\n\u001b[1;32m    697\u001b[0m \u001b[0;34m\u001b[0m\u001b[0m\n\u001b[1;32m    698\u001b[0m             \u001b[0;31m# Make the request on the httplib connection object.\u001b[0m\u001b[0;34m\u001b[0m\u001b[0;34m\u001b[0m\u001b[0;34m\u001b[0m\u001b[0m\n\u001b[0;32m--> 699\u001b[0;31m             httplib_response = self._make_request(\n\u001b[0m\u001b[1;32m    700\u001b[0m                 \u001b[0mconn\u001b[0m\u001b[0;34m,\u001b[0m\u001b[0;34m\u001b[0m\u001b[0;34m\u001b[0m\u001b[0m\n\u001b[1;32m    701\u001b[0m                 \u001b[0mmethod\u001b[0m\u001b[0;34m,\u001b[0m\u001b[0;34m\u001b[0m\u001b[0;34m\u001b[0m\u001b[0m\n",
      "\u001b[0;32m~/Desktop/读书会/.vnev_39/lib/python3.9/site-packages/urllib3/connectionpool.py\u001b[0m in \u001b[0;36m_make_request\u001b[0;34m(self, conn, method, url, timeout, chunked, **httplib_request_kw)\u001b[0m\n\u001b[1;32m    380\u001b[0m         \u001b[0;31m# Trigger any extra validation we need to do.\u001b[0m\u001b[0;34m\u001b[0m\u001b[0;34m\u001b[0m\u001b[0;34m\u001b[0m\u001b[0m\n\u001b[1;32m    381\u001b[0m         \u001b[0;32mtry\u001b[0m\u001b[0;34m:\u001b[0m\u001b[0;34m\u001b[0m\u001b[0;34m\u001b[0m\u001b[0m\n\u001b[0;32m--> 382\u001b[0;31m             \u001b[0mself\u001b[0m\u001b[0;34m.\u001b[0m\u001b[0m_validate_conn\u001b[0m\u001b[0;34m(\u001b[0m\u001b[0mconn\u001b[0m\u001b[0;34m)\u001b[0m\u001b[0;34m\u001b[0m\u001b[0;34m\u001b[0m\u001b[0m\n\u001b[0m\u001b[1;32m    383\u001b[0m         \u001b[0;32mexcept\u001b[0m \u001b[0;34m(\u001b[0m\u001b[0mSocketTimeout\u001b[0m\u001b[0;34m,\u001b[0m \u001b[0mBaseSSLError\u001b[0m\u001b[0;34m)\u001b[0m \u001b[0;32mas\u001b[0m \u001b[0me\u001b[0m\u001b[0;34m:\u001b[0m\u001b[0;34m\u001b[0m\u001b[0;34m\u001b[0m\u001b[0m\n\u001b[1;32m    384\u001b[0m             \u001b[0;31m# Py2 raises this as a BaseSSLError, Py3 raises it as socket timeout.\u001b[0m\u001b[0;34m\u001b[0m\u001b[0;34m\u001b[0m\u001b[0;34m\u001b[0m\u001b[0m\n",
      "\u001b[0;32m~/Desktop/读书会/.vnev_39/lib/python3.9/site-packages/urllib3/connectionpool.py\u001b[0m in \u001b[0;36m_validate_conn\u001b[0;34m(self, conn)\u001b[0m\n\u001b[1;32m   1008\u001b[0m         \u001b[0;31m# Force connect early to allow us to validate the connection.\u001b[0m\u001b[0;34m\u001b[0m\u001b[0;34m\u001b[0m\u001b[0;34m\u001b[0m\u001b[0m\n\u001b[1;32m   1009\u001b[0m         \u001b[0;32mif\u001b[0m \u001b[0;32mnot\u001b[0m \u001b[0mgetattr\u001b[0m\u001b[0;34m(\u001b[0m\u001b[0mconn\u001b[0m\u001b[0;34m,\u001b[0m \u001b[0;34m\"sock\"\u001b[0m\u001b[0;34m,\u001b[0m \u001b[0;32mNone\u001b[0m\u001b[0;34m)\u001b[0m\u001b[0;34m:\u001b[0m  \u001b[0;31m# AppEngine might not have  `.sock`\u001b[0m\u001b[0;34m\u001b[0m\u001b[0;34m\u001b[0m\u001b[0m\n\u001b[0;32m-> 1010\u001b[0;31m             \u001b[0mconn\u001b[0m\u001b[0;34m.\u001b[0m\u001b[0mconnect\u001b[0m\u001b[0;34m(\u001b[0m\u001b[0;34m)\u001b[0m\u001b[0;34m\u001b[0m\u001b[0;34m\u001b[0m\u001b[0m\n\u001b[0m\u001b[1;32m   1011\u001b[0m \u001b[0;34m\u001b[0m\u001b[0m\n\u001b[1;32m   1012\u001b[0m         \u001b[0;32mif\u001b[0m \u001b[0;32mnot\u001b[0m \u001b[0mconn\u001b[0m\u001b[0;34m.\u001b[0m\u001b[0mis_verified\u001b[0m\u001b[0;34m:\u001b[0m\u001b[0;34m\u001b[0m\u001b[0;34m\u001b[0m\u001b[0m\n",
      "\u001b[0;32m~/Desktop/读书会/.vnev_39/lib/python3.9/site-packages/urllib3/connection.py\u001b[0m in \u001b[0;36mconnect\u001b[0;34m(self)\u001b[0m\n\u001b[1;32m    414\u001b[0m             \u001b[0mcontext\u001b[0m\u001b[0;34m.\u001b[0m\u001b[0mload_default_certs\u001b[0m\u001b[0;34m(\u001b[0m\u001b[0;34m)\u001b[0m\u001b[0;34m\u001b[0m\u001b[0;34m\u001b[0m\u001b[0m\n\u001b[1;32m    415\u001b[0m \u001b[0;34m\u001b[0m\u001b[0m\n\u001b[0;32m--> 416\u001b[0;31m         self.sock = ssl_wrap_socket(\n\u001b[0m\u001b[1;32m    417\u001b[0m             \u001b[0msock\u001b[0m\u001b[0;34m=\u001b[0m\u001b[0mconn\u001b[0m\u001b[0;34m,\u001b[0m\u001b[0;34m\u001b[0m\u001b[0;34m\u001b[0m\u001b[0m\n\u001b[1;32m    418\u001b[0m             \u001b[0mkeyfile\u001b[0m\u001b[0;34m=\u001b[0m\u001b[0mself\u001b[0m\u001b[0;34m.\u001b[0m\u001b[0mkey_file\u001b[0m\u001b[0;34m,\u001b[0m\u001b[0;34m\u001b[0m\u001b[0;34m\u001b[0m\u001b[0m\n",
      "\u001b[0;32m~/Desktop/读书会/.vnev_39/lib/python3.9/site-packages/urllib3/util/ssl_.py\u001b[0m in \u001b[0;36mssl_wrap_socket\u001b[0;34m(sock, keyfile, certfile, cert_reqs, ca_certs, server_hostname, ssl_version, ciphers, ssl_context, ca_cert_dir, key_password, ca_cert_data, tls_in_tls)\u001b[0m\n\u001b[1;32m    447\u001b[0m \u001b[0;34m\u001b[0m\u001b[0m\n\u001b[1;32m    448\u001b[0m     \u001b[0;32mif\u001b[0m \u001b[0msend_sni\u001b[0m\u001b[0;34m:\u001b[0m\u001b[0;34m\u001b[0m\u001b[0;34m\u001b[0m\u001b[0m\n\u001b[0;32m--> 449\u001b[0;31m         ssl_sock = _ssl_wrap_socket_impl(\n\u001b[0m\u001b[1;32m    450\u001b[0m             \u001b[0msock\u001b[0m\u001b[0;34m,\u001b[0m \u001b[0mcontext\u001b[0m\u001b[0;34m,\u001b[0m \u001b[0mtls_in_tls\u001b[0m\u001b[0;34m,\u001b[0m \u001b[0mserver_hostname\u001b[0m\u001b[0;34m=\u001b[0m\u001b[0mserver_hostname\u001b[0m\u001b[0;34m\u001b[0m\u001b[0;34m\u001b[0m\u001b[0m\n\u001b[1;32m    451\u001b[0m         )\n",
      "\u001b[0;32m~/Desktop/读书会/.vnev_39/lib/python3.9/site-packages/urllib3/util/ssl_.py\u001b[0m in \u001b[0;36m_ssl_wrap_socket_impl\u001b[0;34m(sock, ssl_context, tls_in_tls, server_hostname)\u001b[0m\n\u001b[1;32m    491\u001b[0m \u001b[0;34m\u001b[0m\u001b[0m\n\u001b[1;32m    492\u001b[0m     \u001b[0;32mif\u001b[0m \u001b[0mserver_hostname\u001b[0m\u001b[0;34m:\u001b[0m\u001b[0;34m\u001b[0m\u001b[0;34m\u001b[0m\u001b[0m\n\u001b[0;32m--> 493\u001b[0;31m         \u001b[0;32mreturn\u001b[0m \u001b[0mssl_context\u001b[0m\u001b[0;34m.\u001b[0m\u001b[0mwrap_socket\u001b[0m\u001b[0;34m(\u001b[0m\u001b[0msock\u001b[0m\u001b[0;34m,\u001b[0m \u001b[0mserver_hostname\u001b[0m\u001b[0;34m=\u001b[0m\u001b[0mserver_hostname\u001b[0m\u001b[0;34m)\u001b[0m\u001b[0;34m\u001b[0m\u001b[0;34m\u001b[0m\u001b[0m\n\u001b[0m\u001b[1;32m    494\u001b[0m     \u001b[0;32melse\u001b[0m\u001b[0;34m:\u001b[0m\u001b[0;34m\u001b[0m\u001b[0;34m\u001b[0m\u001b[0m\n\u001b[1;32m    495\u001b[0m         \u001b[0;32mreturn\u001b[0m \u001b[0mssl_context\u001b[0m\u001b[0;34m.\u001b[0m\u001b[0mwrap_socket\u001b[0m\u001b[0;34m(\u001b[0m\u001b[0msock\u001b[0m\u001b[0;34m)\u001b[0m\u001b[0;34m\u001b[0m\u001b[0;34m\u001b[0m\u001b[0m\n",
      "\u001b[0;32m/Library/Frameworks/Python.framework/Versions/3.9/lib/python3.9/ssl.py\u001b[0m in \u001b[0;36mwrap_socket\u001b[0;34m(self, sock, server_side, do_handshake_on_connect, suppress_ragged_eofs, server_hostname, session)\u001b[0m\n\u001b[1;32m    498\u001b[0m         \u001b[0;31m# SSLSocket class handles server_hostname encoding before it calls\u001b[0m\u001b[0;34m\u001b[0m\u001b[0;34m\u001b[0m\u001b[0;34m\u001b[0m\u001b[0m\n\u001b[1;32m    499\u001b[0m         \u001b[0;31m# ctx._wrap_socket()\u001b[0m\u001b[0;34m\u001b[0m\u001b[0;34m\u001b[0m\u001b[0;34m\u001b[0m\u001b[0m\n\u001b[0;32m--> 500\u001b[0;31m         return self.sslsocket_class._create(\n\u001b[0m\u001b[1;32m    501\u001b[0m             \u001b[0msock\u001b[0m\u001b[0;34m=\u001b[0m\u001b[0msock\u001b[0m\u001b[0;34m,\u001b[0m\u001b[0;34m\u001b[0m\u001b[0;34m\u001b[0m\u001b[0m\n\u001b[1;32m    502\u001b[0m             \u001b[0mserver_side\u001b[0m\u001b[0;34m=\u001b[0m\u001b[0mserver_side\u001b[0m\u001b[0;34m,\u001b[0m\u001b[0;34m\u001b[0m\u001b[0;34m\u001b[0m\u001b[0m\n",
      "\u001b[0;32m/Library/Frameworks/Python.framework/Versions/3.9/lib/python3.9/ssl.py\u001b[0m in \u001b[0;36m_create\u001b[0;34m(cls, sock, server_side, do_handshake_on_connect, suppress_ragged_eofs, server_hostname, context, session)\u001b[0m\n\u001b[1;32m   1038\u001b[0m                         \u001b[0;31m# non-blocking\u001b[0m\u001b[0;34m\u001b[0m\u001b[0;34m\u001b[0m\u001b[0;34m\u001b[0m\u001b[0m\n\u001b[1;32m   1039\u001b[0m                         \u001b[0;32mraise\u001b[0m \u001b[0mValueError\u001b[0m\u001b[0;34m(\u001b[0m\u001b[0;34m\"do_handshake_on_connect should not be specified for non-blocking sockets\"\u001b[0m\u001b[0;34m)\u001b[0m\u001b[0;34m\u001b[0m\u001b[0;34m\u001b[0m\u001b[0m\n\u001b[0;32m-> 1040\u001b[0;31m                     \u001b[0mself\u001b[0m\u001b[0;34m.\u001b[0m\u001b[0mdo_handshake\u001b[0m\u001b[0;34m(\u001b[0m\u001b[0;34m)\u001b[0m\u001b[0;34m\u001b[0m\u001b[0;34m\u001b[0m\u001b[0m\n\u001b[0m\u001b[1;32m   1041\u001b[0m             \u001b[0;32mexcept\u001b[0m \u001b[0;34m(\u001b[0m\u001b[0mOSError\u001b[0m\u001b[0;34m,\u001b[0m \u001b[0mValueError\u001b[0m\u001b[0;34m)\u001b[0m\u001b[0;34m:\u001b[0m\u001b[0;34m\u001b[0m\u001b[0;34m\u001b[0m\u001b[0m\n\u001b[1;32m   1042\u001b[0m                 \u001b[0mself\u001b[0m\u001b[0;34m.\u001b[0m\u001b[0mclose\u001b[0m\u001b[0;34m(\u001b[0m\u001b[0;34m)\u001b[0m\u001b[0;34m\u001b[0m\u001b[0;34m\u001b[0m\u001b[0m\n",
      "\u001b[0;32m/Library/Frameworks/Python.framework/Versions/3.9/lib/python3.9/ssl.py\u001b[0m in \u001b[0;36mdo_handshake\u001b[0;34m(self, block)\u001b[0m\n\u001b[1;32m   1307\u001b[0m             \u001b[0;32mif\u001b[0m \u001b[0mtimeout\u001b[0m \u001b[0;34m==\u001b[0m \u001b[0;36m0.0\u001b[0m \u001b[0;32mand\u001b[0m \u001b[0mblock\u001b[0m\u001b[0;34m:\u001b[0m\u001b[0;34m\u001b[0m\u001b[0;34m\u001b[0m\u001b[0m\n\u001b[1;32m   1308\u001b[0m                 \u001b[0mself\u001b[0m\u001b[0;34m.\u001b[0m\u001b[0msettimeout\u001b[0m\u001b[0;34m(\u001b[0m\u001b[0;32mNone\u001b[0m\u001b[0;34m)\u001b[0m\u001b[0;34m\u001b[0m\u001b[0;34m\u001b[0m\u001b[0m\n\u001b[0;32m-> 1309\u001b[0;31m             \u001b[0mself\u001b[0m\u001b[0;34m.\u001b[0m\u001b[0m_sslobj\u001b[0m\u001b[0;34m.\u001b[0m\u001b[0mdo_handshake\u001b[0m\u001b[0;34m(\u001b[0m\u001b[0;34m)\u001b[0m\u001b[0;34m\u001b[0m\u001b[0;34m\u001b[0m\u001b[0m\n\u001b[0m\u001b[1;32m   1310\u001b[0m         \u001b[0;32mfinally\u001b[0m\u001b[0;34m:\u001b[0m\u001b[0;34m\u001b[0m\u001b[0;34m\u001b[0m\u001b[0m\n\u001b[1;32m   1311\u001b[0m             \u001b[0mself\u001b[0m\u001b[0;34m.\u001b[0m\u001b[0msettimeout\u001b[0m\u001b[0;34m(\u001b[0m\u001b[0mtimeout\u001b[0m\u001b[0;34m)\u001b[0m\u001b[0;34m\u001b[0m\u001b[0;34m\u001b[0m\u001b[0m\n",
      "\u001b[0;31mKeyboardInterrupt\u001b[0m: "
     ]
    }
   ],
   "source": [
    "# 发送网络请求 不带参数的网络请求\n",
    "#HTTP中的GET，POST，PUT，DELETE就对应着对这个资源的 查，改，增，删 4个操作\n",
    "\n",
    "response = requests.get('https://www.baidu.com')\n",
    "print('响应状态码为：',response.status_code)  # 打印状态码\n",
    "print('请求的网络地址为：',response.url)          # 打印请求url\n",
    "print('头部信息为：',response.headers)      # 打印头部信息\n",
    "print('cookie信息为：',response.cookies)      # 打印cookie信息"
   ]
  },
  {
   "cell_type": "markdown",
   "metadata": {},
   "source": [
    "### 5.1.2对应结果进行utf-8编码"
   ]
  },
  {
   "cell_type": "code",
   "execution_count": null,
   "metadata": {},
   "outputs": [],
   "source": [
    "response = requests.get('https://www.baidu.com/')\n",
    "response.encoding='utf-8'    # 对响应结果进行utf-8编码\n",
    "print(response.text)         # 以文本形式打印网页源码"
   ]
  },
  {
   "cell_type": "markdown",
   "metadata": {},
   "source": [
    "### 5.1.3 爬取二进制数据"
   ]
  },
  {
   "cell_type": "code",
   "execution_count": null,
   "metadata": {},
   "outputs": [],
   "source": [
    "response = requests.get('https://www.baidu.com/img/bd_logo1.png?where=super')\n",
    "print(response.content)                # 打印二进制数据\n",
    "with open('百度logo.png','wb')as f:   # 通过open函数将二进制数据写入本地文件\n",
    "    f.write(response.content)          # 写入"
   ]
  },
  {
   "cell_type": "markdown",
   "metadata": {},
   "source": [
    "### 5.1.5GET带参数请求"
   ]
  },
  {
   "cell_type": "code",
   "execution_count": null,
   "metadata": {},
   "outputs": [],
   "source": [
    "response=requests.get('http://httpbin.org/get?name=Jack&age=30')\n",
    "print(response.text)"
   ]
  },
  {
   "cell_type": "code",
   "execution_count": null,
   "metadata": {},
   "outputs": [],
   "source": [
    "data={'name':'Michael','age':'36'}\n",
    "response=requests.get('http://httpbin.org/get',params=data)\n",
    "print(response.text)"
   ]
  },
  {
   "cell_type": "markdown",
   "metadata": {},
   "source": [
    "### 5.1.5 POST请求"
   ]
  },
  {
   "cell_type": "code",
   "execution_count": null,
   "metadata": {},
   "outputs": [],
   "source": [
    "#POST请求时需要设置请求参数data\n",
    "# 字典类型的表单参数\n",
    "data = {'1': '能力是有限的，而努力是无限的。',\n",
    "        '2':'星光不问赶路人，时光不负有心人。'}\n",
    "# 发送网络请求\n",
    "response = requests.post('http://httpbin.org/post',data=data)\n",
    "response_dict = json.loads(response.text)      # 将响应数据转换为字典类型\n",
    "print(response_dict)"
   ]
  },
  {
   "cell_type": "code",
   "execution_count": null,
   "metadata": {},
   "outputs": [],
   "source": [
    "#POST 中的参数格式可以是列表 元组 JSON\n",
    "#元组\n",
    "data1 = (('1', '能力是有限的，而努力是无限的。'),\n",
    "        ('2','星光不问赶路人，时光不负有心人。'))\n",
    "#列表\n",
    "data2 = [('1', '能力是有限的，而努力是无限的。'),\n",
    "        ('2','星光不问赶路人，时光不负有心人。')]\n",
    "#字典        \n",
    "data3 = {'1': '能力是有限的，而努力是无限的。',\n",
    "        '2':'星光不问赶路人，时光不负有心人。'}\n",
    "# 发送网络请求\n",
    "response1 = requests.post('http://httpbin.org/post',data=data1)\n",
    "response_1 = json.loads(response1.text)      # 将响应数据转换为字典类型\n",
    "print(response_1)\n",
    "response2 = requests.post('http://httpbin.org/post',data=data2)\n",
    "response_2 = json.loads(response2.text)      # 将响应数据转换为字典类型\n",
    "print(response_2)\n",
    "response3 = requests.post('http://httpbin.org/post',data=data3)\n",
    "response_3 = json.loads(response3.text)      # 将响应数据转换为字典类型\n",
    "print(response_3)"
   ]
  },
  {
   "cell_type": "markdown",
   "metadata": {},
   "source": [
    "## 5.2复杂的网络请求"
   ]
  },
  {
   "cell_type": "markdown",
   "metadata": {},
   "source": [
    "### 5.2.1添加header"
   ]
  },
  {
   "cell_type": "code",
   "execution_count": null,
   "metadata": {},
   "outputs": [],
   "source": [
    "#header模拟浏览器\n",
    "url = 'https://www.baidu.com/'     # 创建需要爬取网页的地址\n",
    "# 创建头部信息\n",
    "headers = {'User-Agent':'Mozilla/5.0 (Windows NT 10.0; Win64; x64; rv:72.0) Gecko/20100101 Firefox/72.0'}\n",
    "response  = requests.get(url, headers=headers)    # 发送网络请求\n",
    "print(response.status_code)    "
   ]
  },
  {
   "cell_type": "markdown",
   "metadata": {},
   "source": [
    "### 5.2.2验证cookies"
   ]
  },
  {
   "cell_type": "code",
   "execution_count": null,
   "metadata": {},
   "outputs": [],
   "source": [
    "cookies = 'bid=q4OuPU0Qkac; gr_user_id=0de5911b-87c8-4382-bccc-a4f1f4024ce1; ll=\"108089\"; _pk_ref.100001.8cb4=%5B%22%22%2C%22%22%2C1634288780%2C%22https%3A%2F%2Fwww.google.com%2F%22%5D; _pk_ses.100001.8cb4=*; __utma=30149280.1731075480.1633327591.1633327591.1634288795.2; __utmc=30149280; __utmz=30149280.1634288795.2.2.utmcsr=google|utmccn=(organic)|utmcmd=organic|utmctr=(not%20provided); __utmt=1; dbcl2=\"247781609:iC9Qe6IPneo\"; ck=mlay; ap_v=0,6.0; push_noty_num=0; push_doumail_num=0; __utmv=30149280.24778; _pk_id.100001.8cb4=4ec46b7583de2448.1634288780.1.1634288875.1634288780.; __utmb=30149280.5.10.1634288795'\n",
    "headers = {'Host': 'www.douban.com',\n",
    "           'Referer': 'https://www.hao123.com/',\n",
    "           'User-Agent': 'Mozilla/5.0 (Windows NT 10.0; Win64; x64) '\n",
    "                         'AppleWebKit/537.36 (KHTML, like Gecko) '\n",
    "                         'Chrome/72.0.3626.121 Safari/537.36'}\n",
    "# 创建RequestsCookieJar对象，用于设置cookies信息\n",
    "cookies_jar = requests.cookies.RequestsCookieJar()\n",
    "for cookie in cookies.split(';'):\n",
    "    key, value = cookie.split('=', 1)\n",
    "    cookies_jar.set(key, value)  # 将cookies保存RequestsCookieJar当中\n",
    "# 发送网络请求\n",
    "response = requests.get('https://www.douban.com/',\n",
    "headers=headers, cookies=cookies_jar)\n",
    "if response.status_code == 200:  # 请求成功时\n",
    "    html = etree.HTML(response.text)  # 解析html代码\n",
    "    # 获取用户名\n",
    "    name = html.xpath('//*[@id=\"db-global-nav\"]/div/div[1]/ul/li[2]/a/span[1]/text()')\n",
    "    print(name[0])  # 打印用户名"
   ]
  },
  {
   "cell_type": "markdown",
   "metadata": {},
   "source": [
    "### 5.2.3 会话请求"
   ]
  },
  {
   "cell_type": "code",
   "execution_count": null,
   "metadata": {},
   "outputs": [],
   "source": [
    "#session第一次登入 第二次发送请求就不需要设置cookies\n",
    "s = requests.Session()  # 创建会话对象\n",
    "data={'username': 'mrsoft', 'password': 'mrsoft'}  # 创建用户名、密码的表单数据\n",
    "# 发送登录请求\n",
    "response =s.post('http://site2.rjkflm.com:666/index/index/chklogin.html',data=data)\n",
    "response2=s.get('http://site2.rjkflm.com:666')   # 发送登录后页面请求\n",
    "print('登录信息：',response.text)                # 打印登录信息\n",
    "print('登录后页面信息如下:\\n',response2.text)    # 打印登录后的页面信息\n"
   ]
  },
  {
   "cell_type": "markdown",
   "metadata": {},
   "source": [
    "### 5.2.4 验证请求"
   ]
  },
  {
   "cell_type": "code",
   "execution_count": null,
   "metadata": {},
   "outputs": [],
   "source": [
    "#auth 验证参数\n",
    "from requests.auth import HTTPBasicAuth  # 导入HTTPBasicAuth类\n",
    "# 定义请求地址\n",
    "url = 'http://sck.rjkflm.com:666/spider/auth/'\n",
    "ah = HTTPBasicAuth('admin','admin')      # 创建HTTPBasicAuth对象，参数为用户名与密码\n",
    "response = requests.get(url=url,auth=ah) # 发送网络请求\n",
    "if response.status_code==200:            # 如果请求成功\n",
    "    print(response.text)                 # 打印验证后的HTML代码"
   ]
  },
  {
   "cell_type": "markdown",
   "metadata": {},
   "source": [
    "### 5.2.5 网络超时与异常"
   ]
  },
  {
   "cell_type": "code",
   "execution_count": null,
   "metadata": {},
   "outputs": [],
   "source": [
    "# 循环发送请求50次\n",
    "for a in range(0, 10):\n",
    "    try:    # 捕获异常\n",
    "        # 设置超时为0.5秒\n",
    "        response = requests.get('https://www.baidu.com/', timeout=0.01)\n",
    "        print(response.status_code)                                        # 打印状态码\n",
    "    except Exception as e:                                                 # 捕获异常\n",
    "        print('异常'+str(e))    "
   ]
  },
  {
   "cell_type": "code",
   "execution_count": null,
   "metadata": {},
   "outputs": [],
   "source": [
    "#识别网络异常分类 3中常见的网络异常\n",
    "# 循环发送请求50次\n",
    "for a in range(0, 50):\n",
    "    try:    # 捕获异常\n",
    "        # 设置超时为0.5秒\n",
    "        response = requests.get('https://www.baidu.com/', timeout=0.01)\n",
    "        print(response.status_code)                                        # 打印状态码\n",
    "    except ReadTimeout:                                                     # 超时异常\n",
    "        print('timeout')\n",
    "    except HTTPError:                                                       # HTTP异常\n",
    "        print('httperror')\n",
    "    except RequestException:                                               # 请求异常\n",
    "        print('reqerror')"
   ]
  },
  {
   "cell_type": "markdown",
   "metadata": {},
   "source": [
    "### 5.2.6上传文件"
   ]
  },
  {
   "cell_type": "code",
   "execution_count": null,
   "metadata": {},
   "outputs": [],
   "source": [
    "#requests post()参数  files\n",
    "bd = open('百度logo.png','rb')     # 读取指定文件\n",
    "file = {'file':bd}                 # 定义需要上传的图片文件\n",
    "# 发送上传文件的网络请求\n",
    "response = requests.post('http://httpbin.org/post',files = file)\n",
    "print(response.text)               # 打印响应结果"
   ]
  },
  {
   "cell_type": "markdown",
   "metadata": {},
   "source": [
    "## 5.3 代理服务"
   ]
  },
  {
   "cell_type": "markdown",
   "metadata": {},
   "source": [
    "### 5.3.1 代理应用"
   ]
  },
  {
   "cell_type": "code",
   "execution_count": null,
   "metadata": {},
   "outputs": [],
   "source": [
    "# 头部信息\n",
    "headers = {'User-Agent': 'Mozilla/5.0 (Windows NT 10.0; Win64; x64) '\n",
    "                         'AppleWebKit/537.36 (KHTML, like Gecko) '\n",
    "                         'Chrome/72.0.3626.121 Safari/537.36'}\n",
    "proxy = {'http': 'http://117.88.176.38:3000',\n",
    "         'https': 'https://117.88.176.38:3000'}  # 设置代理ip与对应的端口号\n",
    "try:\n",
    "    # 对需要爬取的网页发送请求,verify=False不验证服务器的SSL证书\n",
    "    response = requests.get('http://2020.ip138.com', headers= headers,proxies=proxy,verify=False,timeout=3)\n",
    "    print(response.status_code)  # 打印响应状态码\n",
    "except Exception as e:\n",
    "    print('错误异常信息为：',e)    # 打印异常信息"
   ]
  },
  {
   "cell_type": "markdown",
   "metadata": {},
   "source": [
    "### 5.3.2 获取免费的代理IP"
   ]
  },
  {
   "cell_type": "code",
   "execution_count": null,
   "metadata": {},
   "outputs": [],
   "source": [
    "# 头部信息\n",
    "headers = {'User-Agent': 'Mozilla/5.0 (Windows NT 10.0; Win64; x64) '\n",
    "                         'AppleWebKit/537.36 (KHTML, like Gecko) '\n",
    "                         'Chrome/72.0.3626.121 Safari/537.36'}\n",
    "# 发送网络请求\n",
    "response = requests.get('https://www.xicidaili.com/nn/', headers=headers)\n",
    "response.encoding = 'utf-8'  # 设置编码方式\n",
    "if response.status_code == 200:  # 判断请求是否成功\n",
    "    html = etree.HTML(response.text)  # 解析HTML\n",
    "    table = html.xpath('//table[@id=\"ip_list\"]')[0]  # 获取table标签内容\n",
    "    trs = table.xpath('//tr')[1:]  # 获取所有tr标签，排除第一条\n",
    "    ip_table = pd.DataFrame(columns=['ip'])      # 创建临时表格数据\n",
    "    ip_list = []       # 创建保存ip地址的列表\n",
    "    # 循环遍历标签内容\n",
    "    for t in trs:\n",
    "        ip = t.xpath('td/text()')[0]  # 获取代理ip\n",
    "        port = t.xpath('td/text()')[1]  # 获取端口\n",
    "        ip_list.append(ip+':'+port)     # 将ip与端口组合并添加至列表当中\n",
    "        print('代理ip为：', ip, '对应端口为：', port)\n",
    "    ip_table['ip']=ip_list              # 将提取的ip保存至excel文件中的ip列\n",
    "    # 生成xlsx文件\n",
    "    ip_table.to_excel('ip.xlsx', sheet_name='data')"
   ]
  },
  {
   "cell_type": "code",
   "execution_count": null,
   "metadata": {},
   "outputs": [],
   "source": [
    "ip_table = pd.read_excel('ip.xlsx')  # 读取代理IP文件内容\n",
    "ip = ip_table['ip']                      # 获取代理ip列信息\n",
    "# 头部信息\n",
    "headers = {'User-Agent': 'Mozilla/5.0 (Windows NT 10.0; Win64; x64) '\n",
    "                         'AppleWebKit/537.36 (KHTML, like Gecko) '\n",
    "                         'Chrome/72.0.3626.121 Safari/537.36'}\n",
    "# 循环遍历代理IP并通过代理发送网络请求\n",
    "for i in ip:\n",
    "    proxies = {'http': 'http://{ip}'.format(ip=i),\n",
    "               'https': 'https://{ip}'.format(ip=i)}\n",
    "    try:\n",
    "        # verify=False不验证服务器的SSL证书\n",
    "        response = requests.get('http://2020.ip138.com/',\n",
    "                                headers=headers,proxies=proxies,verify=False,timeout=2)\n",
    "        if response.status_code==200:   # 判断请求是否成功,请求成功说明代理IP可用\n",
    "            response.encoding='utf-8'     # 进行编码\n",
    "            html = etree.HTML(response.text)  # 解析HTML\n",
    "            info = html.xpath('/html/body/p[1]/text()')\n",
    "            print(info[0].strip())                 # 输出当前ip匿名信息\n",
    "    except Exception as e:\n",
    "        pass\n",
    "        print('错误异常信息为：',e)    # 打印异常信息"
   ]
  },
  {
   "cell_type": "code",
   "execution_count": null,
   "metadata": {},
   "outputs": [],
   "source": [
    "import requests_cache\n",
    "import time\n",
    "from requests_html import HTMLSession,UserAgent    # 导入HTMLSession类\n",
    "from requests_html import AsyncHTMLSession\n",
    "import urllib3\n",
    "import re"
   ]
  },
  {
   "cell_type": "markdown",
   "metadata": {},
   "source": [
    "## 6.1requests-Cache的安装与测试"
   ]
  },
  {
   "cell_type": "code",
   "execution_count": null,
   "metadata": {},
   "outputs": [],
   "source": [
    "version = requests_cache.__version__\n",
    "version"
   ]
  },
  {
   "cell_type": "markdown",
   "metadata": {},
   "source": [
    "### 6.2缓存的应用"
   ]
  },
  {
   "cell_type": "code",
   "execution_count": null,
   "metadata": {},
   "outputs": [],
   "source": [
    "#requests_cache install_cashe()\n",
    "requests_cache.install_cache()    # 设置缓存\n",
    "requests_cache.clear()            # 清理缓存\n",
    "url = 'http://httpbin.org/get'    # 定义测试地址\n",
    "r = requests.get(url)             # 第一次发送网络请求\n",
    "print('是否存在缓存：',r.from_cache)  # False表示不存在缓存\n",
    "r = requests.get(url)             # 第二次发送网络请求\n",
    "print('是否存在缓存：',r.from_cache)  # True表示存在缓存\n"
   ]
  },
  {
   "cell_type": "code",
   "execution_count": null,
   "metadata": {},
   "outputs": [],
   "source": [
    "#设置延时 \n",
    "#hook判断是否存在缓存\n",
    "requests_cache.install_cache()    # 设置缓存\n",
    "requests_cache.clear()            # 清理缓存\n",
    "# 定义钩子函数\n",
    "def make_throttle_hook(timeout=0.1):\n",
    "    def hook(response, *args, **kwargs):\n",
    "        print(response.text)       #  打印请求结果\n",
    "        # 判断没有缓存时就添加延时\n",
    "        if not getattr(response, 'from_cache', False):\n",
    "            print('等待',timeout,'秒！')\n",
    "            time.sleep(timeout)     # 等待指定时间\n",
    "        else:\n",
    "            print('是否存在请求缓存！',response.from_cache)  # 存在缓存输出True\n",
    "        return response\n",
    "    return hook\n",
    "\n",
    "if __name__ == '__main__':\n",
    "    requests_cache.install_cache()              # 创建缓存\n",
    "    requests_cache.clear()                      # 清理缓存\n",
    "    s = requests_cache.CachedSession()          # 创建缓存会话\n",
    "    s.hooks = {'response': make_throttle_hook(5)}  # 配置钩子函数\n",
    "    s.get('http://httpbin.org/get')            # 模拟发送第一次网络请求\n",
    "    s.get('http://httpbin.org/get')            # 模拟发送第二次网络请求"
   ]
  },
  {
   "cell_type": "markdown",
   "metadata": {},
   "source": [
    "\n",
    "### 6.6 Requests-HTML模块"
   ]
  },
  {
   "cell_type": "code",
   "execution_count": null,
   "metadata": {},
   "outputs": [],
   "source": [
    "session = HTMLSession()          # 创建HTML会话对象\n",
    "url = 'http://news.youth.cn/'    # 定义请求地址\n",
    "r =session.get(url)              # 发送网络请求\n",
    "print(r.html)                    # 打印网络请求的url地址"
   ]
  },
  {
   "cell_type": "code",
   "execution_count": null,
   "metadata": {},
   "outputs": [],
   "source": [
    "session = HTMLSession()          # 创建HTML会话对象\n",
    "data = {'user':'admin','password':123456}    # 模拟表单登录的数据\n",
    "r = session.post('http://httpbin.org/post',data=data)   # 发送post请求\n",
    "if r.status_code == 200:                                # 判断请求是否成功\n",
    "    print(r.text)                                        # 以文本形式打印返回结果"
   ]
  },
  {
   "cell_type": "code",
   "execution_count": null,
   "metadata": {},
   "outputs": [],
   "source": [
    "session = HTMLSession()          # 创建HTML会话对象\n",
    "ua = UserAgent(verify_ssl=False).random          # 创建随机请求头\n",
    "r = session.get('http://httpbin.org/get',headers = {'user-agent': ua})\n",
    "if r.status_code == 200:         # 判断请求是否成功\n",
    "    print(r.text)                # 以文本形式打印返回结果"
   ]
  },
  {
   "cell_type": "markdown",
   "metadata": {},
   "source": [
    "### 6.3.2 数据的获取"
   ]
  },
  {
   "cell_type": "code",
   "execution_count": null,
   "metadata": {},
   "outputs": [],
   "source": [
    "session = HTMLSession()          # 创建HTML会话对象\n",
    "ua = UserAgent().random          # 创建随机请求头\n",
    "# 发送网路请求\n",
    "r = session.get('http://news.youth.cn/jsxw/index.htm',\n",
    "                headers = {'user-agent': ua})\n",
    "r.encoding='gb2312'              # 编码\n",
    "if r.status_code == 200:         # 判断请求是否成功\n",
    "    # 获取所有class=tj3_1中的li标签\n",
    "    li_all = r.html.xpath('.//ul[@class=\"tj3_1\"]/li')\n",
    "    for li in li_all:                 # 循环遍历每个li标签\n",
    "        news_title = li.find('a')[0].text  # 提取新闻标题内容\n",
    "        # 获取新闻详情对应的地址\n",
    "        news_href = 'http://news.youth.cn/jsxw'+\\\n",
    "                    li.find('a[href]')[0].attrs.get('href').lstrip('.')\n",
    "        news_time = li.find('font')[0].text    # 获取新闻发布的时间\n",
    "        print('新闻标题为：',news_title)   # 打印新闻标题\n",
    "        print('新闻url地址为：',news_href) # 打印新闻url地址\n",
    "        print('新闻发布时间为：',news_time)# 打印新闻发布时间"
   ]
  },
  {
   "cell_type": "code",
   "execution_count": null,
   "metadata": {},
   "outputs": [],
   "source": [
    "#find()方法中的containing参数\n",
    "session = HTMLSession()          # 创建HTML会话对象\n",
    "ua = UserAgent().random          # 创建随机请求头\n",
    "# 发送网路请求\n",
    "r = session.get('http://news.youth.cn/jsxw/index.htm',\n",
    "                headers = {'user-agent': ua})\n",
    "r.encoding='gb2312'              # 编码\n",
    "if r.status_code == 200:         # 判断请求是否成功\n",
    "    # 获取所有class=tj3_1中的li标签\n",
    "    li_all = r.html.xpath('.//ul[@class=\"tj3_1\"]/li')\n",
    "    for li in r.html.find('li',containing='美国'):                 # 循环遍历每个li标签\n",
    "        news_title = li.find('a')[0].text  # 提取新闻标题内容\n",
    "        # 获取新闻详情对应的地址\n",
    "        news_href = 'http://news.youth.cn/jsxw'+\\\n",
    "                    li.find('a[href]')[0].attrs.get('href').lstrip('.')\n",
    "        news_time = li.find('font')[0].text    # 获取新闻发布的时间\n",
    "        print('新闻标题为：',news_title)   # 打印新闻标题\n",
    "        print('新闻url地址为：',news_href) # 打印新闻url地址\n",
    "        print('新闻发布时间为：',news_time)# 打印新闻发布时间"
   ]
  },
  {
   "cell_type": "code",
   "execution_count": null,
   "metadata": {},
   "outputs": [],
   "source": [
    "#search（）方法与search_all方法\n",
    "session = HTMLSession()          # 创建HTML会话对象\n",
    "ua = UserAgent().random          # 创建随机请求头\n",
    "# 发送网路请求\n",
    "r = session.get('http://news.youth.cn/jsxw/index.htm',\n",
    "                headers = {'user-agent': ua})\n",
    "r.encoding='gb2312'              # 编码\n",
    "if r.status_code == 200:         # 判断请求是否成功\n",
    "    # 获取所有class=tj3_1中的li标签\n",
    "    li_all = r.html.xpath('.//ul[@class=\"tj3_1\"]/li')\n",
    "    for li in r.html.find('li',containing='美国'):                 # 循环遍历每个li标签\n",
    "        a= li.search('<a href=\"{}\">{}</a>')\n",
    "        news_title=a[1]\n",
    "        news_href='http://news.youth.cn/jsxw'+a[0]\n",
    "        news_time=li.search('<font>{}</font>')[0]\n",
    "        print('新闻标题为：',news_title)   # 打印新闻标题\n",
    "        print('新闻url地址为：',news_href) # 打印新闻url地址\n",
    "        print('新闻发布时间为：',news_time)# 打印新闻发布时间"
   ]
  },
  {
   "cell_type": "code",
   "execution_count": null,
   "metadata": {},
   "outputs": [],
   "source": [
    "# search_all\n",
    "session = HTMLSession()          # 创建HTML会话对象\n",
    "ua = UserAgent().random          # 创建随机请求头\n",
    "# 发送网路请求\n",
    "r = session.get('http://news.youth.cn/jsxw/index.htm',\n",
    "                headers = {'user-agent': ua})\n",
    "r.encoding='gb2312'              # 编码\n",
    "if r.status_code == 200:         # 判断请求是否成功\n",
    "    # 获取所有class=tj3_1\n",
    "    class_tj3_1 = r.html.xpath('.//ul[@class=\"tj3_1\"]/li')\n",
    "    #使用search_all方法获取所有获取所有class=tj3_1中的li标签\n",
    "    li_all=class_tj3_1[0].search_all('<li>{}<li>')\n",
    "    for li in r.html.find('li',containing='美国'):                 # 循环遍历每个li标签\n",
    "        #通过re\n",
    "        a= re.findall('<font>(.*?)</font><a href=\"(.*?)\">(.*?)</a>',li[0])\n",
    "        news_title=a[0][2]\n",
    "        news_href='http://news.youth.cn/jsxw'+a[0][1]\n",
    "        news_time=li.search('<font>{}</font>')[0][0]\n",
    "        print('新闻标题为：',news_title)   # 打印新闻标题\n",
    "        print('新闻url地址为：',news_href) # 打印新闻url地址\n",
    "        print('新闻发布时间为：',news_time)# 打印新闻发布时间"
   ]
  },
  {
   "cell_type": "markdown",
   "metadata": {},
   "source": [
    "### 6.3.3 获取动态加载的数据"
   ]
  },
  {
   "cell_type": "code",
   "execution_count": null,
   "metadata": {},
   "outputs": [],
   "source": [
    "from requests_html import AsyncHTMLSession\n",
    "#session = HTMLSession()          # 创建HTML会话对象\n",
    "ua = UserAgent().random          # 创建随机请求头\n",
    "asession = AsyncHTMLSession()\n",
    "# 发送网路请求\n",
    "r = await session.get('https://movie.douban.com/tag/#/?sort=U&range=0,10'\n",
    "                '&tags=%E7%94%B5%E5%BD%B1,2020',headers = {'user-agent': ua})\n",
    "r.encoding='gb2312'              # 编码\n",
    "if r.status_code == 200:         # 判断请求是否成功\n",
    "    await r.html.render()              # 调用render()方法，没有Chromium浏览器就自动下载\n",
    "    class_wp = r.html.xpath('.//div[@class=\"list-wp\"]/a')  # 获取当前页面中所有电影信息的a标签\n",
    "    for a in class_wp:\n",
    "        title = a.find('p span')[0].text  # 获取电影名称\n",
    "        rate = a.find('p span')[1].text  # 获取电影评分\n",
    "        details_url = a.attrs.get('href')  # 获取详情页url地址\n",
    "        img_url = a.find('img')[0].attrs.get('src')  # 获取图片url地址\n",
    "        print('电影名称为：', title)  # 打印电影名称\n",
    "        print('电影评分为：', rate)  # 打印电影评分\n",
    "        print('详情页地址为：', details_url)  # 打印电影详情页url地址\n",
    "        print('图片地址为：', img_url)  # 打印电影图片地址"
   ]
  },
  {
   "cell_type": "code",
   "execution_count": null,
   "metadata": {},
   "outputs": [],
   "source": [
    "from requests_html import HTMLSession,UserAgent    # 导入HTMLSession类\n",
    "\n",
    "session = HTMLSession()          # 创建HTML会话对象\n",
    "ua = UserAgent().random          # 创建随机请求头\n",
    "# 发送网路请求\n",
    "r = session.get('https://movie.douban.com/tag/#/?sort=U&range=0,10'\\\n",
    "                '&tags=%E7%94%B5%E5%BD%B1,2020',headers = {'user-agent': ua})\n",
    "r.encoding='gb2312'              # 编码\n",
    "if r.status_code == 200:         # 判断请求是否成功\n",
    "    r.html.render()              # 调用render()方法，没有Chromium浏览器就自动下载\n",
    "    class_wp = r.html.xpath('.//div[@class=\"list-wp\"]/a')  # 获取当前页面中所有电影信息的a标签\n",
    "    for a in class_wp:\n",
    "        title = a.find('p span')[0].text  # 获取电影名称\n",
    "        rate = a.find('p span')[1].text  # 获取电影评分\n",
    "        details_url = a.attrs.get('href')  # 获取详情页url地址\n",
    "        img_url = a.find('img')[0].attrs.get('src')  # 获取图片url地址\n",
    "        print('电影名称为：', title)  # 打印电影名称\n",
    "        print('电影评分为：', rate)  # 打印电影评分\n",
    "        print('详情页地址为：', details_url)  # 打印电影详情页url地址\n",
    "        print('图片地址为：', img_url)  # 打印电影图片地址"
   ]
  },
  {
   "cell_type": "code",
   "execution_count": null,
   "metadata": {},
   "outputs": [],
   "source": [
    "from requests_html import HTMLSession,UserAgent    # 导入HTMLSession类\n",
    "asession = AsyncHTMLSession()\n",
    "#session = HTMLSession()          # 创建HTML会话对象\n",
    "ua = UserAgent().random          # 创建随机请求头\n",
    "# 发送网路请求\n",
    "r = asession.get('https://movie.douban.com/tag/#/?sort=U&range=0,10'\n",
    "                '&tags=%E7%94%B5%E5%BD%B1,2020',headers = {'user-agent': ua})\n",
    "r.encoding='gb2312'              # 编码\n",
    "if r.status_code == 200:         # 判断请求是否成功\n",
    "    r.html.render()              # 调用render()方法，没有Chromium浏览器就自动下载\n",
    "    class_wp = r.html.xpath('.//div[@class=\"list-wp\"]/a')  # 获取当前页面中所有电影信息的a标签\n",
    "    for a in class_wp:\n",
    "        title = a.find('p span')[0].text  # 获取电影名称\n",
    "        rate = a.find('p span')[1].text  # 获取电影评分\n",
    "        details_url = a.attrs.get('href')  # 获取详情页url地址\n",
    "        img_url = a.find('img')[0].attrs.get('src')  # 获取图片url地址\n",
    "        print('电影名称为：', title)  # 打印电影名称\n",
    "        print('电影评分为：', rate)  # 打印电影评分\n",
    "        print('详情页地址为：', details_url)  # 打印电影详情页url地址\n",
    "        print('图片地址为：', img_url)  # 打印电影图片地址"
   ]
  },
  {
   "cell_type": "code",
   "execution_count": 6,
   "metadata": {},
   "outputs": [
    {
     "name": "stdout",
     "output_type": "stream",
     "text": [
      "电影名称为： 八佰\n",
      "电影评分为： 7.5\n",
      "详情页地址为： https://movie.douban.com/subject/26754233/\n",
      "图片地址为： https://img9.doubanio.com/view/photo/s_ratio_poster/public/p2615992304.jpg\n",
      "电影名称为： 我和我的家乡\n",
      "电影评分为： 7.1\n",
      "详情页地址为： https://movie.douban.com/subject/35051512/\n",
      "图片地址为： https://img9.doubanio.com/view/photo/s_ratio_poster/public/p2620453443.jpg\n",
      "电影名称为： 送你一朵小红花\n",
      "电影评分为： 7.3\n",
      "详情页地址为： https://movie.douban.com/subject/35096844/\n",
      "图片地址为： https://img9.doubanio.com/view/photo/s_ratio_poster/public/p2618247457.jpg\n",
      "电影名称为： 姜子牙\n",
      "电影评分为： 6.7\n",
      "详情页地址为： https://movie.douban.com/subject/25907124/\n",
      "图片地址为： https://img9.doubanio.com/view/photo/s_ratio_poster/public/p2621219978.jpg\n",
      "电影名称为： 夺冠\n",
      "电影评分为： 7.2\n",
      "详情页地址为： https://movie.douban.com/subject/30128916/\n",
      "图片地址为： https://img9.doubanio.com/view/photo/s_ratio_poster/public/p2620083313.jpg\n",
      "电影名称为： 信条\n",
      "电影评分为： 7.6\n",
      "详情页地址为： https://movie.douban.com/subject/30444960/\n",
      "图片地址为： https://img9.doubanio.com/view/photo/s_ratio_poster/public/p2612061299.jpg\n",
      "电影名称为： 心灵奇旅\n",
      "电影评分为： 8.7\n",
      "详情页地址为： https://movie.douban.com/subject/24733428/\n",
      "图片地址为： https://img9.doubanio.com/view/photo/s_ratio_poster/public/p2626308994.jpg\n",
      "电影名称为： 拆弹专家2\n",
      "电影评分为： 7.5\n",
      "详情页地址为： https://movie.douban.com/subject/30171424/\n",
      "图片地址为： https://img9.doubanio.com/view/photo/s_ratio_poster/public/p2621379901.jpg\n",
      "电影名称为： 囧妈\n",
      "电影评分为： 5.9\n",
      "详情页地址为： https://movie.douban.com/subject/30306570/\n",
      "图片地址为： https://img9.doubanio.com/view/photo/s_ratio_poster/public/p2581835383.jpg\n",
      "电影名称为： 金刚川\n",
      "电影评分为： 6.5\n",
      "详情页地址为： https://movie.douban.com/subject/35155748/\n",
      "图片地址为： https://img9.doubanio.com/view/photo/s_ratio_poster/public/p2623301908.jpg\n",
      "电影名称为： 困在时间里的父亲\n",
      "电影评分为： 8.6\n",
      "详情页地址为： https://movie.douban.com/subject/33432655/\n",
      "图片地址为： https://img9.doubanio.com/view/photo/s_ratio_poster/public/p2654915204.jpg\n",
      "电影名称为： 沐浴之王\n",
      "电影评分为： 6.0\n",
      "详情页地址为： https://movie.douban.com/subject/34894753/\n",
      "图片地址为： https://img9.doubanio.com/view/photo/s_ratio_poster/public/p2627788612.jpg\n",
      "电影名称为： 花木兰\n",
      "电影评分为： 4.9\n",
      "详情页地址为： https://movie.douban.com/subject/26357307/\n",
      "图片地址为： https://img9.doubanio.com/view/photo/s_ratio_poster/public/p2590336843.jpg\n",
      "电影名称为： 一点就到家\n",
      "电影评分为： 6.6\n",
      "详情页地址为： https://movie.douban.com/subject/35069506/\n",
      "图片地址为： https://img9.doubanio.com/view/photo/s_ratio_poster/public/p2621101922.jpg\n",
      "电影名称为： 波斯语课\n",
      "电影评分为： 8.1\n",
      "详情页地址为： https://movie.douban.com/subject/30466931/\n",
      "图片地址为： https://img9.doubanio.com/view/photo/s_ratio_poster/public/p2588101332.jpg\n",
      "电影名称为： 夜间小屋\n",
      "电影评分为： 6.3\n",
      "详情页地址为： https://movie.douban.com/subject/30323687/\n",
      "图片地址为： https://img9.doubanio.com/view/photo/s_ratio_poster/public/p2637498114.jpg\n",
      "电影名称为： 兔子暴力\n",
      "电影评分为： 5.9\n",
      "详情页地址为： https://movie.douban.com/subject/30289828/\n",
      "图片地址为： https://img9.doubanio.com/view/photo/s_ratio_poster/public/p2675924254.jpg\n",
      "电影名称为： 除暴\n",
      "电影评分为： 6.1\n",
      "详情页地址为： https://movie.douban.com/subject/30373723/\n",
      "图片地址为： https://img9.doubanio.com/view/photo/s_ratio_poster/public/p2625777429.jpg\n",
      "电影名称为： 疯狂原始人2\n",
      "电影评分为： 7.8\n",
      "详情页地址为： https://movie.douban.com/subject/24298954/\n",
      "图片地址为： https://img9.doubanio.com/view/photo/s_ratio_poster/public/p2624607255.jpg\n",
      "电影名称为： 温暖的抱抱\n",
      "电影评分为： 5.3\n",
      "详情页地址为： https://movie.douban.com/subject/34869362/\n",
      "图片地址为： https://img9.doubanio.com/view/photo/s_ratio_poster/public/p2618446242.jpg\n"
     ]
    }
   ],
   "source": [
    "from requests_html import HTMLSession,UserAgent    # 导入HTMLSession类\n",
    "from bs4 import BeautifulSoup\n",
    "from requests_html import AsyncHTMLSession\n",
    "ua = UserAgent().random          # 创建随机请求头\n",
    "#session = HTMLSession()          # 创建HTML会话对象\n",
    "asession = AsyncHTMLSession()\n",
    "\n",
    "# 发送网路请求\n",
    "r = await asession.get('https://movie.douban.com/tag/#/?sort=U&range=0,10'\n",
    "                '&tags=%E7%94%B5%E5%BD%B1,2020',headers = {'user-agent': ua})\n",
    "r.encoding='gb2312'              # 编码\n",
    "if r.status_code == 200:         # 判断请求是否成功\n",
    "    await r.html.arender()\n",
    "    #r.html.render()              # 调用render()方法，没有Chromium浏览器就自动下载\n",
    "    class_wp = r.html.xpath('.//div[@class=\"list-wp\"]/a')  # 获取当前页面中所有电影信息的a标签\n",
    "    for a in class_wp:\n",
    "        title = a.find('p span')[0].text  # 获取电影名称\n",
    "        rate = a.find('p span')[1].text  # 获取电影评分\n",
    "        details_url = a.attrs.get('href')  # 获取详情页url地址\n",
    "        img_url = a.find('img')[0].attrs.get('src')  # 获取图片url地址\n",
    "        print('电影名称为：', title)  # 打印电影名称\n",
    "        print('电影评分为：', rate)  # 打印电影评分\n",
    "        print('详情页地址为：', details_url)  # 打印电影详情页url地址\n",
    "        print('图片地址为：', img_url)  # 打印电影图片地址"
   ]
  },
  {
   "cell_type": "code",
   "execution_count": null,
   "metadata": {},
   "outputs": [],
   "source": []
  }
 ],
 "metadata": {
  "interpreter": {
   "hash": "76c87cf35e586b30724129600de9d6b5c2db1bb9c6565a827211fdb022b02fd8"
  },
  "kernelspec": {
   "display_name": "Python 3.9.1 64-bit ('.vnev_39': venv)",
   "name": "python3"
  },
  "language_info": {
   "codemirror_mode": {
    "name": "ipython",
    "version": 3
   },
   "file_extension": ".py",
   "mimetype": "text/x-python",
   "name": "python",
   "nbconvert_exporter": "python",
   "pygments_lexer": "ipython3",
   "version": "3.8.2"
  },
  "orig_nbformat": 4
 },
 "nbformat": 4,
 "nbformat_minor": 2
}
