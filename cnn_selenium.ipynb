{
 "cells": [
  {
   "cell_type": "code",
   "execution_count": null,
   "metadata": {},
   "outputs": [],
   "source": [
    "from selenium import webdriver\n",
    "from bs4 import BeautifulSoup\n",
    "import pandas as pd\n",
    "import time               # 导入时间模块\n",
    "import random             # 导入随机模块"
   ]
  },
  {
   "cell_type": "code",
   "execution_count": null,
   "metadata": {},
   "outputs": [],
   "source": [
    "driver = webdriver.Chrome()"
   ]
  },
  {
   "cell_type": "code",
   "execution_count": null,
   "metadata": {},
   "outputs": [],
   "source": [
    "def processing(strs):\n",
    "    s = ''  # 定义保存内容的字符串\n",
    "    for n in strs:\n",
    "        n = ''.join(n.split())  # 去除空字符\n",
    "        s = s + n  # 拼接字符串\n",
    "    return s      # 返回拼接后的字符串"
   ]
  },
  {
   "cell_type": "code",
   "execution_count": null,
   "metadata": {},
   "outputs": [],
   "source": [
    "def get_html(url):\n",
    "    driver.get(url)\n",
    "    soup = BeautifulSoup(driver.page_source, 'lxml')\n",
    "    time.sleep(random.randint(1,3))          # 等待1至3秒随机时间\n",
    "    return soup"
   ]
  },
  {
   "cell_type": "code",
   "execution_count": null,
   "metadata": {},
   "outputs": [],
   "source": [
    "def count_page(url):\n",
    "    countSentence=' '\n",
    "    beautifulSoupPage = get_html(url)\n",
    "    countSentence = beautifulSoupPage.find('div', class_='cnn-search__results-count').text\n",
    "    countCampany = countSentence.split(' ')[5]\n",
    "    return int(countCampany)"
   ]
  },
  {
   "cell_type": "code",
   "execution_count": null,
   "metadata": {},
   "outputs": [],
   "source": [
    "def get_info(url):\n",
    "    beautifulSoupInfo=get_html(url)\n",
    "    div_all = beautifulSoupInfo.find_all('div', class_='cnn-search__result cnn-search__result--article')\n",
    "    infos = []\n",
    "    for div in div_all:\n",
    "        key = {}\n",
    "        key['title']=div.find('div', class_='cnn-search__result-contents').h3.a.text\n",
    "        time=div.find('div',class_='cnn-search__result-publish-date').text\n",
    "        key['time']=processing(time)\n",
    "        content=div.find('div',class_='cnn-search__result-body').text\n",
    "        key['content']=content.replace('\\n', '').strip()\n",
    "        infos.append(key)\n",
    "    return infos"
   ]
  },
  {
   "cell_type": "code",
   "execution_count": null,
   "metadata": {},
   "outputs": [],
   "source": [
    "def get_company(name,count):\n",
    "    df= pd.DataFrame({'title':[],'time':[],'content':[]})\n",
    "    for i in range(0,count, 50):    # 每页25为间隔，实现循环，共10页\n",
    "    # 通过format替换切换页码的url地址\n",
    "        try:\n",
    "            #url=\"https://edition.cnn.com/search?q=apple&size=10&from={0}&page={1}\".format((i-1)*10,i)\n",
    "            url=\"https://edition.cnn.com/search?q={0}&size=50&from={1}\".format(name,i)\n",
    "            data=get_info(url)\n",
    "            df=df.append(data)\n",
    "            print(i)\n",
    "        except Exception as e:\n",
    "            print(e)\n",
    "    df.to_csv(\"cnn_{}.csv\".format(name))"
   ]
  },
  {
   "cell_type": "code",
   "execution_count": null,
   "metadata": {},
   "outputs": [],
   "source": [
    "all_company=pd.read_csv('constituents_csv.csv')\n",
    "for i in all_company['Symbol']:\n",
    "    #i=i.replace(' ','%20')\n",
    "    url=\"https://edition.cnn.com/search?q={0}&size=50&from=1\".format(i)\n",
    "    countCompany=count_page(url)\n",
    "    print(countCompany)\n",
    "    get_company(i,countCompany)\n",
    "    print(i)"
   ]
  },
  {
   "cell_type": "code",
   "execution_count": null,
   "metadata": {},
   "outputs": [],
   "source": [
    "url=\"https://edition.cnn.com/search?q={0}&size=50&from=1\".format('bitcoin')\n",
    "countCompany=count_page(url)\n",
    "print(countCompany)\n",
    "get_company('bitcoin',countCompany)"
   ]
  },
  {
   "cell_type": "code",
   "execution_count": null,
   "metadata": {},
   "outputs": [],
   "source": [
    "url=\"https://edition.cnn.com/search?q={0}&size=50&from=1\".format('bitcoin')\n",
    "countCompany=count_page(url)\n",
    "print(countCompany)\n",
    "get_company('bitcoin',countCompany)"
   ]
  },
  {
   "cell_type": "code",
   "execution_count": null,
   "metadata": {},
   "outputs": [],
   "source": [
    "driver = webdriver.Chrome()"
   ]
  },
  {
   "cell_type": "code",
   "execution_count": null,
   "metadata": {},
   "outputs": [],
   "source": [
    "driver.get('https://www.bloomberg.com/search?query=bitcoin')"
   ]
  },
  {
   "cell_type": "code",
   "execution_count": null,
   "metadata": {},
   "outputs": [],
   "source": [
    "from selenium.common.exceptions import TimeoutException\n",
    "i = 0\n",
    "while i < 50:\n",
    "    try:\n",
    "        #element = wait.until(EC.visibility_of_element_located((By.XPATH, \"(//div[@class='loadMoreButtonContainer__f90d3d2543'])[0]\")))\n",
    "        #element.click()\n",
    "        driver.find_element_by_xpath(\"//button[text()='Load More Results']\").click()\n",
    "        time.sleep(random.randint(3,6))          # 等待1至3秒随机时间\n",
    "        i += 1\n",
    "    except TimeoutException:\n",
    "        break"
   ]
  },
  {
   "cell_type": "code",
   "execution_count": null,
   "metadata": {},
   "outputs": [],
   "source": [
    "soup = BeautifulSoup(driver.page_source, 'lxml')"
   ]
  },
  {
   "cell_type": "code",
   "execution_count": null,
   "metadata": {},
   "outputs": [],
   "source": [
    "div_all=soup.find_all('div', class_='storyItem__4d5aa17d67')"
   ]
  },
  {
   "cell_type": "code",
   "execution_count": null,
   "metadata": {},
   "outputs": [],
   "source": [
    "infos = []\n",
    "for div in div_all:\n",
    "    key = {}\n",
    "    key['title'] = div.find('a', class_='headline__96ba1917df').text\n",
    "    date = div.find('div', class_='publishedAt__aa20732e3f').text\n",
    "    key['date'] = processing(date)\n",
    "    key['classify']=processing(div.find('div',class_='eyebrow__9f474a6769').text)\n",
    "    try:\n",
    "        key['author']=div.find('div', class_='authors__6cb4938db4').text\n",
    "    except:\n",
    "        key['author']=' '\n",
    "    content = div.find('a', class_='summary__f7259c7b77').text\n",
    "    key['content'] = content.replace('\\n', '').strip()\n",
    "    infos.append(key)"
   ]
  },
  {
   "cell_type": "code",
   "execution_count": null,
   "metadata": {},
   "outputs": [],
   "source": [
    "infos"
   ]
  },
  {
   "cell_type": "code",
   "execution_count": null,
   "metadata": {},
   "outputs": [],
   "source": [
    "df.to_csv(\"cnn_{}.csv\".format(name))"
   ]
  }
 ],
 "metadata": {
  "interpreter": {
   "hash": "cee0b0cd69ec24a570387e848ecf9c0b05d3b978254e549cb33f9888ca986b96"
  },
  "kernelspec": {
   "display_name": "Python 3.8.2 64-bit ('.venv_38': venv)",
   "language": "python",
   "name": "python3"
  },
  "language_info": {
   "codemirror_mode": {
    "name": "ipython",
    "version": 3
   },
   "file_extension": ".py",
   "mimetype": "text/x-python",
   "name": "python",
   "nbconvert_exporter": "python",
   "pygments_lexer": "ipython3",
   "version": "3.8.2"
  },
  "orig_nbformat": 4
 },
 "nbformat": 4,
 "nbformat_minor": 2
}
